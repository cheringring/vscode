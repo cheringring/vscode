{
 "cells": [
  {
   "cell_type": "code",
   "execution_count": 53,
   "metadata": {},
   "outputs": [
    {
     "name": "stdout",
     "output_type": "stream",
     "text": [
      "1\n"
     ]
    }
   ],
   "source": [
    "print(1)"
   ]
  },
  {
   "cell_type": "markdown",
   "metadata": {},
   "source": [
    "markdown을 누르면 쓸 수 있다."
   ]
  },
  {
   "cell_type": "markdown",
   "metadata": {},
   "source": [
    "- 변수 \n",
    "어떤 값을 저장하기 위한 저장 공간 \n",
    "\n",
    "- 변수이름의 규칙\n",
    "영문자 혹은 _시작 \n",
    "대소문자 구분\n",
    "숫자로 시작할 수 없음\n",
    "특수 문자 사용 안됨\n",
    "공백안됨\n",
    "파이썬 예악어 사용안됨"
   ]
  },
  {
   "cell_type": "code",
   "execution_count": 54,
   "metadata": {},
   "outputs": [
    {
     "name": "stdout",
     "output_type": "stream",
     "text": [
      "5 <class 'int'>\n"
     ]
    }
   ],
   "source": [
    "# 파이썬은 모든 것이 다 객체(class)이다.\n",
    "# a는 변수\n",
    "\n",
    "a = 7\n",
    "A = 1 \n",
    "\n",
    "b = 5\n",
    "\n",
    "print(b,type(b))\n"
   ]
  },
  {
   "cell_type": "code",
   "execution_count": 55,
   "metadata": {},
   "outputs": [
    {
     "name": "stdout",
     "output_type": "stream",
     "text": [
      "7\n",
      "7\n"
     ]
    }
   ],
   "source": [
    "b = a \n",
    "\n",
    "print(b)\n",
    "\n",
    "a=5\n",
    "\n",
    "# 이미 b의 값이 7로 변경이 됨.\n",
    "# call by reference : 객체가 메모리의 주소를 가진다.\n",
    "\n",
    "print(b)"
   ]
  },
  {
   "cell_type": "markdown",
   "metadata": {},
   "source": [
    "# 변수 선언\n",
    "\n",
    "- 하나의 변수에 하나의 값을 대입\n",
    "\n",
    "- 두개의 변수에 같은 값을 대입\n",
    "\n",
    "- 변수에 변수를 대입 \n",
    "\n"
   ]
  },
  {
   "cell_type": "code",
   "execution_count": 56,
   "metadata": {},
   "outputs": [
    {
     "name": "stdout",
     "output_type": "stream",
     "text": [
      "<class 'int'>\n",
      "<class 'str'>\n",
      "<class 'list'>\n"
     ]
    }
   ],
   "source": [
    "# 하나의 변수에 하나의 값\n",
    "\n",
    "a = 1\n",
    "b = 1 \n",
    "\n",
    "# 변수에 값을 할당 \n",
    "\n",
    "age = 30 \n",
    "name = '홍길동'\n",
    "name2 = 'null' #빈값 \n",
    "pi = 3.14 #실수 \n",
    "real = True #boolean 논리형\n",
    "\n",
    "#변수의 재할당 \n",
    "x= 10;\n",
    "print(type(x))\n",
    "x= 'hello'\n",
    "print(type(x))\n",
    "x= [1,2,3]\n",
    "print(type(x))"
   ]
  },
  {
   "cell_type": "code",
   "execution_count": 57,
   "metadata": {},
   "outputs": [
    {
     "name": "stdout",
     "output_type": "stream",
     "text": [
      "1\n",
      "1\n",
      "1\n"
     ]
    }
   ],
   "source": [
    "# 두 개의 변수에 값은 값을 대입 \n",
    "\n",
    "a=b=1\n",
    "\n",
    "print(a)\n",
    "print(b)\n",
    "\n",
    "\n",
    "# 변수에 변수를 대입 할 수 있다.\n",
    "\n",
    "a=1\n",
    "b=a \n",
    "\n",
    "print(b)\n",
    "\n",
    "\n"
   ]
  },
  {
   "cell_type": "code",
   "execution_count": 58,
   "metadata": {},
   "outputs": [
    {
     "name": "stdout",
     "output_type": "stream",
     "text": [
      "2000 10\n",
      "<class 'int'>\n",
      "hellokim!\n"
     ]
    }
   ],
   "source": [
    "# 값을 변경해보자\n",
    "\n",
    "a=10\n",
    "b=2000\n",
    "\n",
    "a,b=b,a \n",
    "\n",
    "print(a,b)\n",
    "\n",
    "# 변수의 타입 확인 \n",
    "\n",
    "x=10\n",
    "print(type(x))\n",
    "\n",
    "\n",
    "# 변수의 활용\n",
    "\n",
    "x=10\n",
    "y=20\n",
    "\n",
    "sum = x+y\n",
    "\n",
    "name = 'kim'\n",
    "msg ='hello' + name + \"!\"\n",
    "\n",
    "print(msg)"
   ]
  },
  {
   "cell_type": "code",
   "execution_count": 59,
   "metadata": {},
   "outputs": [
    {
     "name": "stdout",
     "output_type": "stream",
     "text": [
      "10 20\n"
     ]
    }
   ],
   "source": [
    "# 변수의 출력\n",
    "\n",
    "a=10\n",
    "A=20\n",
    "\n",
    "print(a,A)"
   ]
  },
  {
   "cell_type": "code",
   "execution_count": 60,
   "metadata": {},
   "outputs": [
    {
     "ename": "SyntaxError",
     "evalue": "invalid syntax (2382135573.py, line 3)",
     "output_type": "error",
     "traceback": [
      "\u001b[0;36m  Cell \u001b[0;32mIn[60], line 3\u001b[0;36m\u001b[0m\n\u001b[0;31m    age=30 name= 'kim' #한 라인에 두개를 선언할 수 없다.\u001b[0m\n\u001b[0m           ^\u001b[0m\n\u001b[0;31mSyntaxError\u001b[0m\u001b[0;31m:\u001b[0m invalid syntax\n"
     ]
    }
   ],
   "source": [
    "# 변수 선언 시 주의할 점\n",
    "\n",
    "age=30 name= 'kim' #한 라인에 두개를 선언할 수 없다.\n",
    "\n",
    "# 변수 명은 대소문자를 구분\n",
    "\n",
    "age=30\n",
    "Age=30"
   ]
  },
  {
   "cell_type": "markdown",
   "metadata": {},
   "source": [
    "# date type ( 자료형 )\n",
    "\n",
    "- 프로그램에서 표현하고 저장하는 데이터 유형 ( = 메모리가 크기가 결정 )\n",
    "\n",
    "\n",
    "1. 순서형 자료형\n",
    "\n",
    "-숫자(number) : 정수, 실수, 복소수 ...\n",
    "-문자형(string): 문자열\n",
    "-리스트(list): 객체의 집합 (=인덱스가 있다)\n",
    "-튜플(tuple): 객체의 집합 (=인덱스가 있다)\n",
    "\n",
    "\n",
    "2. 비순서 자료형 \n",
    "\n",
    "- dictionary(딕셔너리): key & value \n",
    "- set (집합)\n",
    "- bool : True & False\n",
    "\n"
   ]
  },
  {
   "cell_type": "code",
   "execution_count": null,
   "metadata": {},
   "outputs": [
    {
     "name": "stdout",
     "output_type": "stream",
     "text": [
      "3\n",
      "-3.2\n",
      "7.2\n",
      "0.7999999999999998\n",
      "0.7999999999999998\n"
     ]
    }
   ],
   "source": [
    "# number \n",
    "\n",
    "print(3)\n",
    "print(-3.2)\n",
    "\n",
    "\n",
    "#연산자\n",
    "\n",
    "a=4\n",
    "b=3.2\n",
    "c=2\n",
    "\n",
    "print(a+b)\n",
    "print(a-b)\n",
    "print(a%b)"
   ]
  },
  {
   "cell_type": "code",
   "execution_count": null,
   "metadata": {},
   "outputs": [
    {
     "name": "stdout",
     "output_type": "stream",
     "text": [
      "0\n",
      "2\n"
     ]
    }
   ],
   "source": [
    "# %: 나머지 연산자 \n",
    "# // : 몫 연ㄴ산자 \n",
    "\n",
    "print(a%c)\n",
    "print(a//c)"
   ]
  },
  {
   "cell_type": "code",
   "execution_count": null,
   "metadata": {},
   "outputs": [
    {
     "name": "stdout",
     "output_type": "stream",
     "text": [
      "16\n"
     ]
    }
   ],
   "source": [
    "# ** : 제곱 연산자\n",
    "\n",
    "print(a**c)"
   ]
  },
  {
   "cell_type": "code",
   "execution_count": null,
   "metadata": {},
   "outputs": [
    {
     "name": "stdout",
     "output_type": "stream",
     "text": [
      "-6\n",
      "5.0\n",
      "6.2\n",
      "16\n"
     ]
    }
   ],
   "source": [
    "# 파이썬 관련 내장함수 \n",
    "\n",
    "print(int(-6.2))\n",
    "print(float(5))\n",
    "\n",
    "print(abs(-6.2)) #절댓값 \n",
    "\n",
    "print(pow(4,2)) # 4의 2 제곱근 \n"
   ]
  },
  {
   "cell_type": "code",
   "execution_count": null,
   "metadata": {},
   "outputs": [],
   "source": [
    "# 문자열 \n",
    "\n",
    "# 큰 따옴표 혹은 작은 따옴표로 문자열을 만든다.\n",
    "# 문자열 내부에서 따옴표가 필요한 경우 ' 이스케이프 ' 문자 통해 가능 \n"
   ]
  },
  {
   "cell_type": "code",
   "execution_count": null,
   "metadata": {},
   "outputs": [
    {
     "name": "stdout",
     "output_type": "stream",
     "text": [
      "hello\n",
      "hello\n",
      "I'm smart\n",
      "i'm smart\n",
      "kavin '파이썬 프로그램'을 잘한다.\n"
     ]
    }
   ],
   "source": [
    "world= \"hello\"\n",
    "\n",
    "\n",
    "print(world)\n",
    "\n",
    "print('hello')\n",
    "\n",
    "# 문자열 내부의 작은 따옴표\n",
    "\n",
    "print(\"I'm smart\")\n",
    "\n",
    "# Print('I'm smart') < 작은 홀따옴표 안에 작은 홀따옴표 바로 쓰면 오류\n",
    "print('i\\'m smart')\n",
    "\n",
    "print('kavin \\'파이썬 프로그램\\'을 잘한다.')"
   ]
  },
  {
   "cell_type": "code",
   "execution_count": null,
   "metadata": {},
   "outputs": [
    {
     "name": "stdout",
     "output_type": "stream",
     "text": [
      "글을 쓴다\n",
      "세줄도 된다\n",
      "네 줄도 된다. \n"
     ]
    }
   ],
   "source": [
    "# 여러 개의 문자열\n",
    "# 쌍따옴표 세개\n",
    "sentence= \"\"\"\\ \n",
    "글을 쓴다\n",
    "세줄도 된다\n",
    "네 줄도 된다. \\\n",
    "\"\"\"\"\"\n",
    "\n",
    "print(sentence)"
   ]
  },
  {
   "cell_type": "code",
   "execution_count": null,
   "metadata": {},
   "outputs": [
    {
     "name": "stdout",
     "output_type": "stream",
     "text": [
      "1\n",
      "2\n",
      "2\t3\n",
      "'작은따옴표'출력\n",
      "\"큰 따옴표\" 출력\n"
     ]
    }
   ],
   "source": [
    "# 이스케이프 문자\n",
    "# \\n: 줄바꿈 \\t: 탭  \\\\: 역슬래쉬, \\': 작은따옴표  \\\": 큰따옴표\n",
    "\n",
    "\n",
    "sentence1= \"1\\n2\"\n",
    "sentence2= \"2\\t3\"\n",
    "sentence3='\\'작은따옴표\\'출력'\n",
    "sentence4='\\\"큰 따옴표\\\" 출력'\n",
    "\n",
    "print(sentence1)\n",
    "print(sentence2)\n",
    "print(sentence3)\n",
    "print(sentence4)\n"
   ]
  },
  {
   "cell_type": "code",
   "execution_count": null,
   "metadata": {},
   "outputs": [
    {
     "name": "stdout",
     "output_type": "stream",
     "text": [
      "python programing\n"
     ]
    }
   ],
   "source": [
    "# 문자열 자료형 \n",
    "\n",
    "# - 연산자 +,*\n",
    "\n",
    "a= 'python '\n",
    "b= 'programing'\n",
    "\n",
    "\n",
    "print(a+b)"
   ]
  },
  {
   "cell_type": "code",
   "execution_count": null,
   "metadata": {},
   "outputs": [
    {
     "name": "stdout",
     "output_type": "stream",
     "text": [
      "==============================\n",
      " python! \n",
      "==============================\n"
     ]
    }
   ],
   "source": [
    "# [*] = 문자열 반복 연산자 \n",
    "\n",
    "\n",
    "equal = \"=\"*30\n",
    "sentence = equal + '\\n python! \\n' +equal\n",
    "print(sentence)"
   ]
  },
  {
   "cell_type": "markdown",
   "metadata": {},
   "source": [
    "- 문자열의 인덱싱과 슬라이싱 \n",
    "\n",
    "\n",
    "- 인덱싱 : 문자열 내부에 문자 하나를 선택하는 연산자 : []\n",
    "[ ] 안에 선택할 문자의 위치를 지정: index는 0부터 시작\n",
    "\n",
    "\n"
   ]
  },
  {
   "cell_type": "code",
   "execution_count": null,
   "metadata": {},
   "outputs": [
    {
     "name": "stdout",
     "output_type": "stream",
     "text": [
      "파이썬 프로그램\n",
      "프\n",
      "파\n"
     ]
    }
   ],
   "source": [
    "sentence = '파이썬 프로그램'\n",
    "\n",
    "print(sentence)\n",
    "\n",
    "\n",
    "print(sentence [4]) # 인덱스 4에 있는 '프'가찍힘.\n",
    "print(sentence[-0])\n",
    "\n"
   ]
  },
  {
   "cell_type": "markdown",
   "metadata": {},
   "source": []
  },
  {
   "cell_type": "markdown",
   "metadata": {},
   "source": [
    "# 슬라이싱 \n",
    "\n",
    "문자열의 특정 범위 선택 : [ : ]\n",
    "\n",
    "문자열 [인덱스1:인덱스2] : 인덱스2가 포함되지않는다.\n"
   ]
  },
  {
   "cell_type": "code",
   "execution_count": null,
   "metadata": {},
   "outputs": [
    {
     "name": "stdout",
     "output_type": "stream",
     "text": [
      "프로그래밍\n"
     ]
    }
   ],
   "source": [
    "sentence = \"파이썬 프로그래밍\"\n",
    "\n",
    "print(sentence[4:])"
   ]
  },
  {
   "cell_type": "markdown",
   "metadata": {},
   "source": [
    "- Formatting\n",
    "문자열 안에 어떤 값을 삽입하는 방법\n",
    "1. 연산자 포맷팅  :  %\n",
    "2. 함수 포맷팅    : .format\n",
    "3. f-string    : f''\n"
   ]
  },
  {
   "cell_type": "code",
   "execution_count": null,
   "metadata": {},
   "outputs": [
    {
     "name": "stdout",
     "output_type": "stream",
     "text": [
      "나는 6호선을 타고 다닌다.\n",
      "나는 4호선을 타고 학교를 간다.\n"
     ]
    }
   ],
   "source": [
    "#연산자포맷팅\n",
    "\n",
    "# %d : 장스 %f : 실수 %s : 문자열\n",
    "\n",
    "sentence = \"나는 %d호선을 타고 다닌다.\" %6\n",
    "\n",
    "print(sentence)\n",
    "\n",
    "\n",
    "\n",
    "a=4\n",
    "b='학교'\n",
    "sentence = \"나는 %d호선을 타고 %s를 간다.\" %(a,b)\n",
    "print(sentence)"
   ]
  },
  {
   "cell_type": "code",
   "execution_count": null,
   "metadata": {},
   "outputs": [
    {
     "name": "stdout",
     "output_type": "stream",
     "text": [
      "나는 4호선을 타고 다녀\n",
      "나는 4호선을 타고 학교에 간다.\n"
     ]
    }
   ],
   "source": [
    "#format 함수 포맷팅\n",
    "\n",
    "# {}를 포함한 문자열 뒤에 (.)도트를 찍고 format 함수를 사용\n",
    "\n",
    "print(\"나는 {}호선을 타고 다녀\".format(4))\n",
    "\n",
    "print('나는 {}호선을 타고 {}에 간다.'.format(4,'학교'))"
   ]
  },
  {
   "cell_type": "code",
   "execution_count": null,
   "metadata": {},
   "outputs": [
    {
     "name": "stdout",
     "output_type": "stream",
     "text": [
      "저는 coffe를 좋아한다. 하루에5개 마셔요.\n"
     ]
    }
   ],
   "source": [
    "s= 'coffe'\n",
    "n= 5\n",
    "result = f'저는 {s}를 좋아한다. 하루에{n}개 마셔요.'\n",
    "\n",
    "print(result)"
   ]
  },
  {
   "cell_type": "markdown",
   "metadata": {},
   "source": [
    "- 문자열 관련 함수 \n",
    "\n",
    "len(x) : 문자열의 길이\n",
    "split(): 문자열 나누기\n",
    "count(x) : 문자 개수 세기\n",
    "replace ('a','b') : a와 b 자리 바꾸기 \n",
    "upper(): 소문자를 대문자\n",
    "lower(): 대문자를 소문자\n",
    "join(x): 문자열 삽입"
   ]
  },
  {
   "cell_type": "code",
   "execution_count": null,
   "metadata": {},
   "outputs": [
    {
     "name": "stdout",
     "output_type": "stream",
     "text": [
      "20\n"
     ]
    }
   ],
   "source": [
    "sentence  = ' kavin은 파이썬을 좋아합니다. '\n",
    "print(len(sentence))"
   ]
  },
  {
   "cell_type": "code",
   "execution_count": null,
   "metadata": {},
   "outputs": [
    {
     "name": "stdout",
     "output_type": "stream",
     "text": [
      "['kavin은', '파이썬을', '좋아합니다.']\n",
      "[' kavin은 파이썬을 좋아합니다. ']\n",
      "<class 'list'>\n"
     ]
    }
   ],
   "source": [
    "print(sentence.split())\n",
    "# 공백 기준으로 잘라준다.\n",
    "print(sentence.split('-'))\n",
    "# - 기준으로 잘라준다.\n",
    "print(type(sentence.split()))\n"
   ]
  },
  {
   "cell_type": "code",
   "execution_count": null,
   "metadata": {},
   "outputs": [
    {
     "name": "stdout",
     "output_type": "stream",
     "text": [
      "2\n"
     ]
    }
   ],
   "source": [
    "sentence1 = '나는 샤브샤브를 좋아합니다.'\n",
    "print(sentence1.count('샤브'))"
   ]
  },
  {
   "cell_type": "code",
   "execution_count": null,
   "metadata": {},
   "outputs": [
    {
     "name": "stdout",
     "output_type": "stream",
     "text": [
      "나는 불고기를 좋아합니다.\n",
      "나는 샤브샤브를 좋아합니다.\n"
     ]
    }
   ],
   "source": [
    "sentence2 =sentence1.replace('샤브샤브','불고기')\n",
    "print(sentence2)\n",
    "print(sentence1) # 원본을 훼손하지 않는다. 원본 데이터를 보존"
   ]
  },
  {
   "cell_type": "code",
   "execution_count": null,
   "metadata": {},
   "outputs": [
    {
     "name": "stdout",
     "output_type": "stream",
     "text": [
      "8\n",
      "HAMbuger\n"
     ]
    }
   ],
   "source": [
    "# find ('a') : 위치 알려주기\n",
    "file_name = 'HAMbuger.jpg'\n",
    "\n",
    "print(file_name.find('.'))\n",
    "\n",
    "#dot_index= file_name.find('.')\n",
    "#file_name= [dot_index+1:]\n",
    "#print(file_name[9:])\n",
    "\n",
    "# 파일명 출력\n",
    "\n",
    "dot_index = file_name.find('.')\n",
    "\n",
    "filename2= file_name[:dot_index]\n",
    "print(filename2)"
   ]
  },
  {
   "cell_type": "code",
   "execution_count": null,
   "metadata": {},
   "outputs": [
    {
     "name": "stdout",
     "output_type": "stream",
     "text": [
      "a.b.c.d.e\n"
     ]
    }
   ],
   "source": [
    "sentence = '.'.join('abcde')\n",
    "print(sentence)"
   ]
  },
  {
   "cell_type": "markdown",
   "metadata": {},
   "source": [
    "# list\n",
    "인덱싱과 슬라이싱 \n",
    "리스트 : [index] \n",
    "대괄호 안에 들어가는 숫자를 Index라고 한다. \n",
    "파이썬은 0부터 시작 \n",
    "\n"
   ]
  },
  {
   "cell_type": "code",
   "execution_count": null,
   "metadata": {},
   "outputs": [
    {
     "name": "stdout",
     "output_type": "stream",
     "text": [
      "[1, 1.25, 'kavin', [1, 2, [3, 4]]]\n"
     ]
    }
   ],
   "source": [
    "my_list = [1,1.25,'kavin',[1,2,[3,4]]]\n",
    "print(my_list)"
   ]
  },
  {
   "cell_type": "code",
   "execution_count": null,
   "metadata": {},
   "outputs": [
    {
     "name": "stdout",
     "output_type": "stream",
     "text": [
      "1\n",
      "[1, 2, [3, 4]]\n",
      "1\n",
      "3\n",
      "vin\n",
      "vin\n",
      "[3, 4]\n",
      "[3, 4]\n"
     ]
    }
   ],
   "source": [
    "print(my_list[0])\n",
    "print(my_list[3])\n",
    "\n",
    "\n",
    "#방법1\n",
    "\n",
    "print(my_list[3][0])\n",
    "\n",
    "#방법2\n",
    "str = my_list[3]\n",
    "str[0]\n",
    "print(my_list[3][2][0])\n",
    "\n",
    "\n",
    "\n",
    "#kavin  vin 출력\n",
    "#1. \n",
    "\n",
    "print(my_list[2][2:])\n",
    "\n",
    "#2.\n",
    "\n",
    "vin= my_list[2]\n",
    "\n",
    "print(vin[2:])\n",
    "\n",
    "\n",
    "# [3,4 출력]\n",
    "\n",
    "print(my_list[3][2])\n",
    "\n",
    "\n",
    "Num= my_list[3]\n",
    "print(Num[2])\n"
   ]
  },
  {
   "cell_type": "code",
   "execution_count": null,
   "metadata": {},
   "outputs": [
    {
     "name": "stdout",
     "output_type": "stream",
     "text": [
      "[1, 2, 3, 1, 2, 3, 4, 5, 6]\n"
     ]
    }
   ],
   "source": [
    "# 연산자\n",
    "# +,* (반복)\n",
    "\n",
    "list1 = [1,2,3]\n",
    "list2 = [4,5,6]\n",
    "print(list1*2 + list2)"
   ]
  },
  {
   "cell_type": "code",
   "execution_count": null,
   "metadata": {},
   "outputs": [
    {
     "name": "stdout",
     "output_type": "stream",
     "text": [
      "[1, 5.2, '변경', ['커피', '물', ['우롱차']]]\n"
     ]
    },
    {
     "data": {
      "text/plain": [
       "[1, 5.2, ['커피', '물', ['우롱차']]]"
      ]
     },
     "execution_count": 25,
     "metadata": {},
     "output_type": "execute_result"
    }
   ],
   "source": [
    "list3 = [1,5.2,3*2,['커피','물',['우롱차']\n",
    "]]\n",
    "\n",
    "list3[2] = '변경'\n",
    "\n",
    "print(list3)\n",
    "\n",
    "#리스트는 수정,삭제,변경이 가능하다.\n",
    "\n",
    "\n",
    "del list3[2]\n",
    "list3"
   ]
  },
  {
   "cell_type": "markdown",
   "metadata": {},
   "source": [
    "- 관련함수\n",
    "sort() 정렬하기\n",
    "reverse() 리스트 뒤집기 \n",
    "append(x) 리스트 맨 뒤에 요소 추가 \n",
    "extend(x) = append와 동일, 리스트 확장 \n",
    "insert(a,b) a번째 위치에 b를 삽입\n",
    "remove(x) 요소 제거 \n",
    "count(x) 리스트에 포함된 x의 요소개수"
   ]
  },
  {
   "cell_type": "code",
   "execution_count": null,
   "metadata": {},
   "outputs": [
    {
     "name": "stdout",
     "output_type": "stream",
     "text": [
      "[1, 2, 2, 5.2, 6]\n",
      "[6, 5.2, 2, 2, 1]\n"
     ]
    }
   ],
   "source": [
    "list1= [1,5.2,2,6,2]\n",
    "list1.sort()\n",
    "print(list1)\n",
    "\n",
    "\n",
    "list1.reverse()\n",
    "print(list1)\n",
    "\n",
    "\n"
   ]
  },
  {
   "cell_type": "code",
   "execution_count": null,
   "metadata": {},
   "outputs": [
    {
     "name": "stdout",
     "output_type": "stream",
     "text": [
      "[6, 5.2, 2, 2, 1, [2.3], [2.3], [2, 3], [2, 3]]\n",
      "[6, 5.2, 2, 2, 1, [2.3], [2.3], [2, 3], [2, 3], 4, 5, 4]\n"
     ]
    }
   ],
   "source": [
    "list1.append([2,3])\n",
    "print(list1)\n",
    "\n",
    "list1.extend([4,5,4])\n",
    "print(list1)\n",
    "#원래 있던 리스트에 새로운 리스트 요소를 추가하는 함수 "
   ]
  },
  {
   "cell_type": "code",
   "execution_count": null,
   "metadata": {},
   "outputs": [
    {
     "data": {
      "text/plain": [
       "[6, 5.2, '삽입', '삽입', 1, [2.3], [2.3], [2, 3], [2, 3], 4, 5]"
      ]
     },
     "execution_count": 43,
     "metadata": {},
     "output_type": "execute_result"
    }
   ],
   "source": [
    "list1.insert(2,'삽입')\n",
    "list1 # 원래 있던 인덱스를 삭제하고 추가되는 것이 아닌 \n",
    "# 기존 인덱스에 삽입이 되고 기존 인덱스가 한칸씩 늘어난다.\n",
    "\n"
   ]
  },
  {
   "cell_type": "code",
   "execution_count": null,
   "metadata": {},
   "outputs": [
    {
     "ename": "ValueError",
     "evalue": "list.remove(x): x not in list",
     "output_type": "error",
     "traceback": [
      "\u001b[0;31m---------------------------------------------------------------------------\u001b[0m",
      "\u001b[0;31mValueError\u001b[0m                                Traceback (most recent call last)",
      "Cell \u001b[0;32mIn[45], line 1\u001b[0m\n\u001b[0;32m----> 1\u001b[0m \u001b[43mlist1\u001b[49m\u001b[38;5;241;43m.\u001b[39;49m\u001b[43mremove\u001b[49m\u001b[43m(\u001b[49m\u001b[38;5;241;43m2\u001b[39;49m\u001b[43m)\u001b[49m\n\u001b[1;32m      2\u001b[0m \u001b[38;5;28mprint\u001b[39m(list1)\n\u001b[1;32m      3\u001b[0m \u001b[38;5;66;03m#2가 여러번 있다고 하면 제일 처음 나오는 2를 삭제한다.\u001b[39;00m\n",
      "\u001b[0;31mValueError\u001b[0m: list.remove(x): x not in list"
     ]
    }
   ],
   "source": [
    "list1.remove(2)\n",
    "list1  # 이미 삭제해버려서... 오류뜸 \n",
    "#2가 여러번 있다고 하면 제일 처음 나오는 2를 삭제한다."
   ]
  },
  {
   "cell_type": "code",
   "execution_count": null,
   "metadata": {},
   "outputs": [
    {
     "data": {
      "text/plain": [
       "[6, 5.2, '삽입', '삽입', 1, [2.3], [2.3], [2, 3], [2, 3]]"
      ]
     },
     "execution_count": 47,
     "metadata": {},
     "output_type": "execute_result"
    }
   ],
   "source": [
    "list1.pop() # 맨 뒤의 인덱스를 삭제 \n",
    "list1 # 실수로 두번 팝해버림..미안."
   ]
  },
  {
   "cell_type": "code",
   "execution_count": null,
   "metadata": {},
   "outputs": [
    {
     "name": "stdout",
     "output_type": "stream",
     "text": [
      "삽입\n"
     ]
    },
    {
     "data": {
      "text/plain": [
       "[4, 5, 6]"
      ]
     },
     "execution_count": 48,
     "metadata": {},
     "output_type": "execute_result"
    }
   ],
   "source": [
    "delete_msg = list1.pop(2)\n",
    "print(delete_msg)\n",
    "list2\n",
    "\n",
    "# 이건 머고"
   ]
  },
  {
   "cell_type": "code",
   "execution_count": null,
   "metadata": {},
   "outputs": [
    {
     "name": "stdout",
     "output_type": "stream",
     "text": [
      "2\n"
     ]
    }
   ],
   "source": [
    "list2= [1,1,3,[4,2]]\n",
    "print(list2.count(1))"
   ]
  },
  {
   "cell_type": "markdown",
   "metadata": {},
   "source": [
    "튜플\n",
    "\n",
    "(데이터,데이터,데이터 ....)\n",
    "\n",
    "만약 값이 한개일지라도\n",
    "(데이터, )  \n",
    "값을 추가, 삭제 , 수정 할 수 없음.\n"
   ]
  },
  {
   "cell_type": "code",
   "execution_count": null,
   "metadata": {},
   "outputs": [
    {
     "name": "stdout",
     "output_type": "stream",
     "text": [
      "<class 'tuple'>\n",
      "<class 'tuple'>\n"
     ]
    }
   ],
   "source": [
    "tuple1= (2,3, )\n",
    "print(type(tuple1))\n",
    "\n",
    "float1 = (2,3)\n",
    "print(type(float1))"
   ]
  },
  {
   "cell_type": "code",
   "execution_count": null,
   "metadata": {},
   "outputs": [
    {
     "data": {
      "text/plain": [
       "tuple"
      ]
     },
     "execution_count": 52,
     "metadata": {},
     "output_type": "execute_result"
    }
   ],
   "source": [
    "tuple2 = 1,2,3,4,5\n",
    "type(tuple2) "
   ]
  },
  {
   "cell_type": "code",
   "execution_count": null,
   "metadata": {},
   "outputs": [],
   "source": [
    "# 튜플의 인덱싱과 슬라이싱\n",
    "# 리스트와 완전 동일 \n"
   ]
  },
  {
   "cell_type": "code",
   "execution_count": null,
   "metadata": {},
   "outputs": [],
   "source": [
    "딕셔너리 \n",
    "-순서 없는 자료형\n",
    "-'key'='value'\n",
    "-{'key':'value', .... } : 딕셔너리 값 선언\n",
    "-['key']: key값을 통해 가져 올 수 있다."
   ]
  },
  {
   "cell_type": "code",
   "execution_count": 64,
   "metadata": {},
   "outputs": [
    {
     "name": "stdout",
     "output_type": "stream",
     "text": [
      "kavin\n"
     ]
    }
   ],
   "source": [
    "my_dic = {\n",
    "    \"name\":\"kavin\",\n",
    "    \"job\":\"it\"\n",
    "}\n",
    "\n",
    "print(my_dic[\"name\"])"
   ]
  },
  {
   "cell_type": "code",
   "execution_count": 65,
   "metadata": {},
   "outputs": [
    {
     "data": {
      "text/plain": [
       "{'name': 'kavin', 'job': 'it', 'grade': [98, 100, 88]}"
      ]
     },
     "execution_count": 65,
     "metadata": {},
     "output_type": "execute_result"
    }
   ],
   "source": [
    "# 관련 함수\n",
    "# get() : key로 value 얻기\n",
    "# In() : 해당 키가 dict에 있는 지 표시\n",
    "# clear(); key와 value 다 지우기\n",
    "\n",
    "\n",
    "#  값 추가\n",
    "\n",
    "my_dic['grade']=[98,100,88]\n",
    "my_dic\n",
    "\n",
    "\n"
   ]
  },
  {
   "cell_type": "code",
   "execution_count": 66,
   "metadata": {},
   "outputs": [
    {
     "data": {
      "text/plain": [
       "{'name': 'kavin', 'job': 'it', 'grade': [100, 99, 100]}"
      ]
     },
     "execution_count": 66,
     "metadata": {},
     "output_type": "execute_result"
    }
   ],
   "source": [
    "# 값 수정\n",
    "\n",
    "my_dic['grade'] = [100,99,100]\n",
    "my_dic"
   ]
  },
  {
   "cell_type": "markdown",
   "metadata": {},
   "source": [
    "관렴 함수\n",
    "\n",
    "- keys() key의 리스트\n",
    "- values() value의 리스트 \n",
    "- items() key, value 쌍 얻기\n",
    "- get() key로 value 얻기\n",
    "- in () 해당키가 있는지 조사\n",
    "- clear () 초기화 "
   ]
  },
  {
   "cell_type": "code",
   "execution_count": 70,
   "metadata": {},
   "outputs": [
    {
     "name": "stdout",
     "output_type": "stream",
     "text": [
      "dict_keys(['name', 'job', 'grade'])\n",
      "dict_values(['kavin', 'it', [100, 99, 100]])\n",
      "dict_items([('name', 'kavin'), ('job', 'it'), ('grade', [100, 99, 100])])\n"
     ]
    }
   ],
   "source": [
    "print(my_dic.keys())\n",
    "print(my_dic.values())\n",
    "print(my_dic.items())"
   ]
  },
  {
   "cell_type": "code",
   "execution_count": 73,
   "metadata": {},
   "outputs": [
    {
     "name": "stdout",
     "output_type": "stream",
     "text": [
      "it\n",
      "None\n"
     ]
    }
   ],
   "source": [
    "print(my_dic.get('job'))\n",
    "print(my_dic.get('age'))\n"
   ]
  },
  {
   "cell_type": "code",
   "execution_count": 75,
   "metadata": {},
   "outputs": [
    {
     "name": "stdout",
     "output_type": "stream",
     "text": [
      "True\n",
      "False\n"
     ]
    }
   ],
   "source": [
    "print('grade' in my_dic)\n",
    "print('age' in my_dic)"
   ]
  },
  {
   "cell_type": "code",
   "execution_count": null,
   "metadata": {},
   "outputs": [],
   "source": [
    "my_dic.clear()\n"
   ]
  },
  {
   "cell_type": "markdown",
   "metadata": {},
   "source": [
    "# set ( 집합 자료형 )\n",
    "중복 허용 x\n",
    "비순서 자료형\n",
    "set([리스트....])\n",
    "set(문자열)"
   ]
  },
  {
   "cell_type": "code",
   "execution_count": 76,
   "metadata": {},
   "outputs": [
    {
     "name": "stdout",
     "output_type": "stream",
     "text": [
      "{1, 2, 3} <class 'set'>\n"
     ]
    }
   ],
   "source": [
    "set1= set((1,2,3))\n",
    "print(set1,type(set1))"
   ]
  },
  {
   "cell_type": "code",
   "execution_count": 77,
   "metadata": {},
   "outputs": [
    {
     "name": "stdout",
     "output_type": "stream",
     "text": [
      "{'i', 'v', 'a', 'd'} <class 'set'>\n"
     ]
    }
   ],
   "source": [
    "set2=set('david')\n",
    "print(set2,type(set2)) #중복을 허용하지 않아서\n",
    "                       # d가 두번 들어가지 않는다."
   ]
  },
  {
   "cell_type": "code",
   "execution_count": 79,
   "metadata": {},
   "outputs": [
    {
     "name": "stdout",
     "output_type": "stream",
     "text": [
      "{1, 2, 3, 4, 5, 7, 9}\n",
      "{1, 3, 5}\n"
     ]
    }
   ],
   "source": [
    "# set의 자료형\n",
    "# 합집합(|) , 교집합(&), 차집합(-)\n",
    "# add() , update() : 여러개의 값을 추가 ,remove()\n",
    "\n",
    "s1 = {1,2,3,4,5}\n",
    "s2= {1,3,5,7,9} # < 집합 기호\n",
    "\n",
    "print(s1|s2)\n",
    "print(s1&s2)\n",
    "\n"
   ]
  },
  {
   "cell_type": "code",
   "execution_count": 80,
   "metadata": {},
   "outputs": [
    {
     "data": {
      "text/plain": [
       "{1, 2, 3, 4, 5, 6}"
      ]
     },
     "execution_count": 80,
     "metadata": {},
     "output_type": "execute_result"
    }
   ],
   "source": [
    "s3 = set([1,2,3,4,5])\n",
    "s3.add(6)\n",
    "s3"
   ]
  },
  {
   "cell_type": "code",
   "execution_count": 81,
   "metadata": {},
   "outputs": [
    {
     "data": {
      "text/plain": [
       "{1, 2, 3, 4, 5, 6, 11, 13}"
      ]
     },
     "execution_count": 81,
     "metadata": {},
     "output_type": "execute_result"
    }
   ],
   "source": [
    "s3.update([11,13])\n",
    "s3"
   ]
  },
  {
   "cell_type": "code",
   "execution_count": 82,
   "metadata": {},
   "outputs": [
    {
     "data": {
      "text/plain": [
       "{1, 2, 3, 4, 5, 6, 11}"
      ]
     },
     "execution_count": 82,
     "metadata": {},
     "output_type": "execute_result"
    }
   ],
   "source": [
    "s3.remove(13)\n",
    "s3"
   ]
  },
  {
   "cell_type": "markdown",
   "metadata": {},
   "source": [
    "# bool(부울자료형)\n",
    "\n",
    "True, False\n",
    "주로 조건문에서 사용\n",
    "< , > , ==\n"
   ]
  },
  {
   "cell_type": "code",
   "execution_count": 1,
   "metadata": {},
   "outputs": [
    {
     "data": {
      "text/plain": [
       "True"
      ]
     },
     "execution_count": 1,
     "metadata": {},
     "output_type": "execute_result"
    }
   ],
   "source": [
    "'kim' == 'kim'"
   ]
  },
  {
   "cell_type": "code",
   "execution_count": 2,
   "metadata": {},
   "outputs": [
    {
     "name": "stdout",
     "output_type": "stream",
     "text": [
      "True\n"
     ]
    }
   ],
   "source": [
    "if'kim':\n",
    "    print(True)\n",
    "\n",
    "if []:\n",
    "    print(True)"
   ]
  },
  {
   "cell_type": "code",
   "execution_count": 6,
   "metadata": {},
   "outputs": [
    {
     "name": "stdout",
     "output_type": "stream",
     "text": [
      "하\n",
      "끝내보자!\n"
     ]
    }
   ],
   "source": [
    "sentence ='파이썬을 하루만에 끝내보자!'\n",
    "\n",
    "print(sentence[5])\n",
    "\n",
    "print(sentence[10:])"
   ]
  },
  {
   "cell_type": "code",
   "execution_count": 21,
   "metadata": {},
   "outputs": [
    {
     "name": "stdout",
     "output_type": "stream",
     "text": [
      "9x9=81\n",
      "9x9=81\n",
      "9*9=81\n"
     ]
    }
   ],
   "source": [
    "# 9 x 9 = 81 를 출력해보자\n",
    "\n",
    "\n",
    "\n",
    "print(\"%dx%d=%d\" %(9,9,81))\n",
    "\n",
    "\n",
    "sentence=\"{}x{}={}\".format(9,9,81)\n",
    "print(sentence)\n",
    "\n",
    "\n",
    "n1,n2=9,9\n",
    "n3=n1*n2\n",
    "sentence = f'{n1}*{n2}={n3}'\n",
    "print(sentence)\n"
   ]
  },
  {
   "cell_type": "code",
   "execution_count": 22,
   "metadata": {},
   "outputs": [
    {
     "data": {
      "text/plain": [
       "'수영'"
      ]
     },
     "execution_count": 22,
     "metadata": {},
     "output_type": "execute_result"
    }
   ],
   "source": [
    "mylist= [2024,3,9*9,['풋살',['승마','수영']]]\n",
    "\n",
    "\n",
    "mylist[3][1][1]                   "
   ]
  },
  {
   "cell_type": "code",
   "execution_count": null,
   "metadata": {},
   "outputs": [
    {
     "name": "stdout",
     "output_type": "stream",
     "text": [
      "[2024, 3, 81, '삽입', ['풋살', ['승마', '수영']]]\n"
     ]
    }
   ],
   "source": [
    "mylist.insert(3,\"삽입\")\n",
    "print(mylist)"
   ]
  },
  {
   "cell_type": "code",
   "execution_count": 31,
   "metadata": {},
   "outputs": [],
   "source": [
    "mydic = {\n",
    "    \"name\" : \"kim\" ,\n",
    "    \"hobby\" : \"soccer\"\n",
    "}\n",
    "\n",
    "\n"
   ]
  },
  {
   "cell_type": "code",
   "execution_count": 39,
   "metadata": {},
   "outputs": [
    {
     "name": "stdout",
     "output_type": "stream",
     "text": [
      "dict_keys(['name', 'hobby'])\n",
      "dict_items([('name', 'kim'), ('hobby', 'soccer')])\n",
      "soccer\n"
     ]
    }
   ],
   "source": [
    "print(mydic.keys())\n",
    "print(mydic.items())\n",
    "print(mydic.get('hobby'))"
   ]
  },
  {
   "cell_type": "markdown",
   "metadata": {},
   "source": [
    "# 입려과 출력\n",
    "\n",
    "input \n",
    " 사용자의 입력을 받기위해 쓰는 합수\n",
    " input() 함수는 무조건 문자열 자료형을 리턴\n",
    " "
   ]
  },
  {
   "cell_type": "code",
   "execution_count": 40,
   "metadata": {},
   "outputs": [
    {
     "data": {
      "text/plain": [
       "'권체은'"
      ]
     },
     "execution_count": 40,
     "metadata": {},
     "output_type": "execute_result"
    }
   ],
   "source": [
    "input(\"이름을 입력하시오.\")"
   ]
  },
  {
   "cell_type": "code",
   "execution_count": 41,
   "metadata": {},
   "outputs": [
    {
     "name": "stdout",
     "output_type": "stream",
     "text": [
      "3 <class 'str'>\n"
     ]
    }
   ],
   "source": [
    "number= input(\"숫자를 입력하세요: \")\n",
    "print(number,type(number))"
   ]
  },
  {
   "cell_type": "code",
   "execution_count": 43,
   "metadata": {},
   "outputs": [
    {
     "name": "stdout",
     "output_type": "stream",
     "text": [
      "23\n",
      "5\n"
     ]
    }
   ],
   "source": [
    "s1 = input('1. 입력: ')\n",
    "s2 = input('2. 입력: ')\n",
    "\n",
    "\n",
    "num1= int(s1)\n",
    "num2= int(s2)\n",
    "\n",
    "\n",
    "print(s1+s2)\n",
    "print(num1+num2)"
   ]
  },
  {
   "cell_type": "code",
   "execution_count": 50,
   "metadata": {},
   "outputs": [
    {
     "name": "stdout",
     "output_type": "stream",
     "text": [
      "3 ,4\n"
     ]
    }
   ],
   "source": [
    "# input을 활용해서 ,로 구분해서 각각 변수에 담아보세요.\n",
    "\n",
    "\n",
    "\n",
    "a, b= input('1. 담아보세요.').split(',')\n",
    "\n",
    "\n",
    "print(a,b,sep=' ,')"
   ]
  },
  {
   "cell_type": "code",
   "execution_count": 57,
   "metadata": {},
   "outputs": [
    {
     "name": "stdout",
     "output_type": "stream",
     "text": [
      "8\n"
     ]
    }
   ],
   "source": [
    "#input을 활용해서 ,로 구분해서 숫자를 입력해서 변수로 받으세요.\n",
    "\n",
    "a,b=[1,2]\n",
    "a,b=(1,2)\n",
    "\n",
    "a,b= map(int,input(\"숫자를 입력하세요.\").split(','))\n",
    "print(a+b)"
   ]
  },
  {
   "cell_type": "markdown",
   "metadata": {},
   "source": [
    "# 파일 입출력\n",
    "[함수]\n",
    "\n",
    "-open\n",
    "-write\n",
    "-read\n",
    "-close\n",
    "\n",
    "[모드]\n",
    "-r : read\n",
    "-w : write\n",
    "-a : append\n",
    "\n",
    "\n"
   ]
  },
  {
   "cell_type": "code",
   "execution_count": 59,
   "metadata": {},
   "outputs": [],
   "source": [
    "my_file = open(\"python.txt\",'w')\n",
    "my_file.write(\"programing\")\n",
    "my_file.close()\n",
    "\n",
    "# 왼쪽 여기에 파이썬 txt 파일이 만들어지고 writing된 내용이 있음.\n"
   ]
  },
  {
   "cell_type": "code",
   "execution_count": 60,
   "metadata": {},
   "outputs": [
    {
     "data": {
      "text/plain": [
       "'programing'"
      ]
     },
     "execution_count": 60,
     "metadata": {},
     "output_type": "execute_result"
    }
   ],
   "source": [
    "\n",
    "\n",
    "my_file= open('python.txt','r')\n",
    "my_file.read()\n"
   ]
  },
  {
   "cell_type": "code",
   "execution_count": 61,
   "metadata": {},
   "outputs": [],
   "source": [
    "\n",
    "my_file = open('python2.txt','w')\n",
    "my_file.write(\"programing!\\npython\\nwin\")\n",
    "my_file.close()\n"
   ]
  },
  {
   "cell_type": "code",
   "execution_count": 68,
   "metadata": {},
   "outputs": [
    {
     "name": "stdout",
     "output_type": "stream",
     "text": [
      "programing!\n",
      "\n"
     ]
    }
   ],
   "source": [
    "my_file = open('python2.txt','r')\n",
    "\n",
    "# readline은 리스트 자체로 읽어온다.\n",
    "\n",
    "#readline()\n",
    "text = my_file.readline()\n",
    "print(text) # 한 문장씩 읽어올때"
   ]
  },
  {
   "cell_type": "code",
   "execution_count": 69,
   "metadata": {},
   "outputs": [
    {
     "data": {
      "text/plain": [
       "'python'"
      ]
     },
     "execution_count": 69,
     "metadata": {},
     "output_type": "execute_result"
    }
   ],
   "source": [
    "my_file.readline().strip()\n"
   ]
  },
  {
   "cell_type": "code",
   "execution_count": 70,
   "metadata": {},
   "outputs": [],
   "source": [
    "my_file.close()"
   ]
  },
  {
   "cell_type": "code",
   "execution_count": 71,
   "metadata": {},
   "outputs": [],
   "source": [
    "my_file= open(\"python2.txt\",'r')\n",
    "lines = my_file.readlines()\n"
   ]
  },
  {
   "cell_type": "code",
   "execution_count": 72,
   "metadata": {},
   "outputs": [
    {
     "name": "stdout",
     "output_type": "stream",
     "text": [
      "['programing!\\n', 'python\\n', 'win']\n"
     ]
    }
   ],
   "source": [
    "print(lines)"
   ]
  },
  {
   "cell_type": "code",
   "execution_count": 73,
   "metadata": {},
   "outputs": [
    {
     "data": {
      "text/plain": [
       "['programing!', 'python', 'win']"
      ]
     },
     "execution_count": 73,
     "metadata": {},
     "output_type": "execute_result"
    }
   ],
   "source": [
    "# 개행 문자를 없애고 list로 출력하고자 한다면 \n",
    "\n",
    "\n",
    "# func1= lamba str : str.strip()\n",
    "# list(map(func1, lines))\n",
    "\n",
    "\n",
    "[line.strip() for line in lines]"
   ]
  },
  {
   "cell_type": "code",
   "execution_count": 74,
   "metadata": {},
   "outputs": [],
   "source": [
    "my_file.close()"
   ]
  },
  {
   "cell_type": "code",
   "execution_count": 76,
   "metadata": {},
   "outputs": [
    {
     "name": "stdout",
     "output_type": "stream",
     "text": [
      "programing!\n",
      "python\n",
      "win\n"
     ]
    }
   ],
   "source": [
    "# withopen : file을 open하고 close를 별도 해주지 않아도 자동으로 close가 된다.\n",
    "\n",
    "\n",
    "with open('python2.txt','r',encoding='utf-8')as file:\n",
    "    read_txt = file.read()\n",
    "\n",
    "print(read_txt)"
   ]
  },
  {
   "cell_type": "code",
   "execution_count": 77,
   "metadata": {},
   "outputs": [
    {
     "data": {
      "text/plain": [
       "''"
      ]
     },
     "execution_count": 77,
     "metadata": {},
     "output_type": "execute_result"
    }
   ],
   "source": [
    "find_n = read_txt[read_txt.find('\\n')]\n",
    "\n",
    "find_n.replace('\\n','')\n",
    "\n"
   ]
  },
  {
   "cell_type": "code",
   "execution_count": null,
   "metadata": {},
   "outputs": [],
   "source": [
    "# 조건문\n",
    "# 참과 거짓을 판단하는 문장"
   ]
  },
  {
   "cell_type": "markdown",
   "metadata": {},
   "source": [
    "if :\n",
    "조건이 참일때 수행문장\n",
    "\n",
    "(:)와  들여쓰기 주의\n",
    "\n",
    "\n",
    "if문에 올 . 수있는 것들\n",
    "\n",
    "- 관계 연산자 < , > , == ,  <= , !=\n",
    "- 논리 연산자 and , or , not"
   ]
  },
  {
   "cell_type": "code",
   "execution_count": null,
   "metadata": {},
   "outputs": [],
   "source": [
    "flag=True\n",
    "if flag:\n",
    "    print('True입니다.')\n",
    "    print('go')\n",
    "    print('go2')"
   ]
  },
  {
   "cell_type": "markdown",
   "metadata": {},
   "source": [
    "if :\n",
    "  statement \n",
    "else:\n",
    "  statement\n",
    "  "
   ]
  },
  {
   "cell_type": "code",
   "execution_count": null,
   "metadata": {},
   "outputs": [],
   "source": [
    "flag = False\n",
    "if flag:\n",
    "    print('True입니다.')\n",
    "    print('go')\n",
    "    print('go2')\n",
    "\n",
    "else:\n",
    "    print('else')"
   ]
  },
  {
   "cell_type": "code",
   "execution_count": 78,
   "metadata": {},
   "outputs": [
    {
     "name": "stdout",
     "output_type": "stream",
     "text": [
      "fail\n"
     ]
    }
   ],
   "source": [
    "score = 90\n",
    "grade= 'A'\n",
    "\n",
    "# 스코어가 90 이사잉고 학점이 A학점이면 pass\n",
    "\n",
    "\n",
    "\n",
    "\n",
    "if score > 90 and grade =='A':\n",
    "    print(\"pass\")\n",
    "else:\n",
    "    print(\"fail\")"
   ]
  },
  {
   "cell_type": "markdown",
   "metadata": {},
   "source": [
    "세 개 이상의 조건을 연결하고 싶을 때\n",
    "\n",
    "\n",
    "if ~:\n",
    "statement\n",
    "elif :\n",
    "\n",
    "else: "
   ]
  },
  {
   "cell_type": "markdown",
   "metadata": {},
   "source": [
    "in / not in 연산자\n",
    "데이터 안에 찾고자 하는 것이 있는지 없는지 확인하는 연산자\n",
    "\n"
   ]
  },
  {
   "cell_type": "code",
   "execution_count": 79,
   "metadata": {},
   "outputs": [
    {
     "name": "stdout",
     "output_type": "stream",
     "text": [
      "True\n"
     ]
    }
   ],
   "source": [
    "if 'k' in 'korea':\n",
    "    print(True)\n",
    "else:\n",
    "    print(False)"
   ]
  },
  {
   "cell_type": "code",
   "execution_count": null,
   "metadata": {},
   "outputs": [],
   "source": [
    "list = [10,20,30]\n",
    "dic1 = {'name':'kim', 'city':'seoul' }\n",
    "\n",
    "print(15 in list1)\n",
    "print('nmae' in dic1.keys())"
   ]
  },
  {
   "cell_type": "markdown",
   "metadata": {},
   "source": [
    "pass 키워드\n",
    "조건은 만족하지만 아무일도 수행하지 않고 싶을 때\n",
    "혹은 프로그램 골격을 잡아놓고자 . 할때. 추후에 작업\n"
   ]
  },
  {
   "cell_type": "code",
   "execution_count": null,
   "metadata": {},
   "outputs": [],
   "source": [
    "basket = ['사과','바나나']\n",
    "\n",
    "if '딸기' not in basket:\n",
    "    pass"
   ]
  },
  {
   "cell_type": "markdown",
   "metadata": {},
   "source": [
    "사용자로부터 키와 나이를 입력 받고 사진촬영 유무에 따라 최종 금액을 산출"
   ]
  },
  {
   "cell_type": "code",
   "execution_count": 86,
   "metadata": {},
   "outputs": [
    {
     "name": "stdout",
     "output_type": "stream",
     "text": [
      "잘못 입력하셨습니다.\n"
     ]
    }
   ],
   "source": [
    "he = input(\"키를 입력해주세요.: \")\n",
    "age = input(\"나이를 입력해주세요.: \")\n",
    "\n",
    "carmera= input(\"사진 촬영을 하겠습니까? 네/아니오 로만 대답하세요. \")\n",
    "\n",
    "if h >120:\n",
    "   if age < 12 :\n",
    "      print(\"티켓 가격은 5불입니다.\")\n",
    "   elif 12 <age < 17 :\n",
    "      print (\"티켓 가격은 7불 입니다.\")\n",
    "   else:\n",
    "      print(\"티켓 가격은 10불입니다.\")\n",
    "   \n",
    "if (carmera == '네 '):\n",
    "    print(\"촬영 비용은 3불 입니다.\")\n",
    "\n",
    "elif (carmera == '아니오'):\n",
    "     print(\"잘못 입력하셨습니다.\")\n",
    "\n",
    "else: \n",
    "   print(\"입장 불가 입니다.\")\n",
    "\n"
   ]
  },
  {
   "cell_type": "code",
   "execution_count": 87,
   "metadata": {},
   "outputs": [
    {
     "ename": "IndentationError",
     "evalue": "expected an indented block after 'if' statement on line 7 (301626394.py, line 8)",
     "output_type": "error",
     "traceback": [
      "\u001b[0;36m  Cell \u001b[0;32mIn[87], line 8\u001b[0;36m\u001b[0m\n\u001b[0;31m    bill +=5\u001b[0m\n\u001b[0m    ^\u001b[0m\n\u001b[0;31mIndentationError\u001b[0m\u001b[0;31m:\u001b[0m expected an indented block after 'if' statement on line 7\n"
     ]
    }
   ],
   "source": [
    "h,age= map(int,input(\"키와 나이를 콤마로 구분해서 입력하세요: \").split(','))\n",
    "print(h,age)\n",
    "\n",
    "bill = 0\n",
    "\n",
    "if h>120:\n",
    "    if age <12:\n",
    "    bill +=5\n",
    "    elif age < 18:\n",
    "    bill += 7\n",
    "    else:\n",
    "    bill +=10:\n",
    "photo = input(\"사진 찍을래? y/n\")\n",
    "\n",
    "if (photo == 'y')\n"
   ]
  },
  {
   "cell_type": "markdown",
   "metadata": {},
   "source": [
    "# 반복문\n",
    "\n",
    "리스트나 튜플, 딕셔너리에서 차례로 무언가 하고싶을 때\n",
    "\n",
    "-for 반복문\n",
    "-while 반복문\n",
    "\n",
    "\n",
    "for 변수 in 리스트 ( 튜플, 문자열 ):\n",
    "    반복적으로 수행할 문장\n",
    "\n",
    "\n",
    "\n",
    "for 변수 in 반복 할 수 있는 것:\n",
    "    반복적으ㅗㄹ 수행할 문장\n"
   ]
  },
  {
   "cell_type": "code",
   "execution_count": 90,
   "metadata": {},
   "outputs": [
    {
     "name": "stdout",
     "output_type": "stream",
     "text": [
      "0 안녕\n",
      "1 안녕\n",
      "2 안녕\n",
      "3 안녕\n",
      "4 안녕\n"
     ]
    }
   ],
   "source": [
    "# 특정 코드를 반복작업하고 싶을때\n",
    "\n",
    "\n",
    "\n",
    "\n",
    "for i in range(5): #5는 포함안됨.\n",
    "    print(i,'안녕')"
   ]
  },
  {
   "cell_type": "code",
   "execution_count": 91,
   "metadata": {},
   "outputs": [
    {
     "name": "stdout",
     "output_type": "stream",
     "text": [
      "korea"
     ]
    }
   ],
   "source": [
    "\n",
    "\n",
    "msg = 'korea'\n",
    "for a in msg:\n",
    "    print(a,end='')\n",
    "\n",
    "    "
   ]
  },
  {
   "cell_type": "code",
   "execution_count": 92,
   "metadata": {},
   "outputs": [
    {
     "name": "stdout",
     "output_type": "stream",
     "text": [
      "korea\n",
      "usa\n",
      "japen\n"
     ]
    }
   ],
   "source": [
    "my_list = ['korea','usa','japen']\n",
    "\n",
    "for s in my_list:\n",
    "    print(s)"
   ]
  },
  {
   "cell_type": "code",
   "execution_count": 93,
   "metadata": {},
   "outputs": [],
   "source": [
    "my_dic = {\n",
    "    'name':'kavin',\n",
    "    'job': 'programer'\n",
    "}"
   ]
  },
  {
   "cell_type": "code",
   "execution_count": 94,
   "metadata": {},
   "outputs": [
    {
     "name": "stdout",
     "output_type": "stream",
     "text": [
      "name=kavin\n",
      "job=programer\n"
     ]
    }
   ],
   "source": [
    "for key in my_dic:\n",
    "    print(f'{key}={my_dic.get(key)}')"
   ]
  },
  {
   "cell_type": "code",
   "execution_count": 96,
   "metadata": {},
   "outputs": [
    {
     "name": "stdout",
     "output_type": "stream",
     "text": [
      "[0, 1, 2, 3, 4]\n",
      "[5, 6, 7, 8, 9]\n",
      "[5, 7, 9]\n"
     ]
    }
   ],
   "source": [
    "print(list(range(5)))\n",
    "print(list(range(5,10)))\n",
    "print(list(range(5,10,2)))"
   ]
  },
  {
   "cell_type": "code",
   "execution_count": 97,
   "metadata": {},
   "outputs": [
    {
     "name": "stdout",
     "output_type": "stream",
     "text": [
      "[3, 7, 11, 15, 19]\n"
     ]
    }
   ],
   "source": [
    "print(list(range(3,20,4)))"
   ]
  },
  {
   "cell_type": "code",
   "execution_count": 134,
   "metadata": {},
   "outputs": [
    {
     "name": "stdout",
     "output_type": "stream",
     "text": [
      "5006000\n"
     ]
    }
   ],
   "source": [
    "\n",
    "for i in range(1,1001):\n",
    "    sum += i\n",
    "\n",
    "\n",
    "print(sum)\n"
   ]
  },
  {
   "cell_type": "code",
   "execution_count": 133,
   "metadata": {},
   "outputs": [
    {
     "name": "stdout",
     "output_type": "stream",
     "text": [
      "2 x 1 = 2\n",
      "2 x 2 = 4\n",
      "2 x 3 = 6\n",
      "2 x 4 = 8\n",
      "2 x 5 = 10\n",
      "2 x 6 = 12\n",
      "2 x 7 = 14\n",
      "2 x 8 = 16\n",
      "2 x 9 = 18\n",
      "3 x 1 = 3\n",
      "3 x 2 = 6\n",
      "3 x 3 = 9\n",
      "3 x 4 = 12\n",
      "3 x 5 = 15\n",
      "3 x 6 = 18\n",
      "3 x 7 = 21\n",
      "3 x 8 = 24\n",
      "3 x 9 = 27\n",
      "4 x 1 = 4\n",
      "4 x 2 = 8\n",
      "4 x 3 = 12\n",
      "4 x 4 = 16\n",
      "4 x 5 = 20\n",
      "4 x 6 = 24\n",
      "4 x 7 = 28\n",
      "4 x 8 = 32\n",
      "4 x 9 = 36\n",
      "5 x 1 = 5\n",
      "5 x 2 = 10\n",
      "5 x 3 = 15\n",
      "5 x 4 = 20\n",
      "5 x 5 = 25\n",
      "5 x 6 = 30\n",
      "5 x 7 = 35\n",
      "5 x 8 = 40\n",
      "5 x 9 = 45\n",
      "6 x 1 = 6\n",
      "6 x 2 = 12\n",
      "6 x 3 = 18\n",
      "6 x 4 = 24\n",
      "6 x 5 = 30\n",
      "6 x 6 = 36\n",
      "6 x 7 = 42\n",
      "6 x 8 = 48\n",
      "6 x 9 = 54\n",
      "7 x 1 = 7\n",
      "7 x 2 = 14\n",
      "7 x 3 = 21\n",
      "7 x 4 = 28\n",
      "7 x 5 = 35\n",
      "7 x 6 = 42\n",
      "7 x 7 = 49\n",
      "7 x 8 = 56\n",
      "7 x 9 = 63\n",
      "8 x 1 = 8\n",
      "8 x 2 = 16\n",
      "8 x 3 = 24\n",
      "8 x 4 = 32\n",
      "8 x 5 = 40\n",
      "8 x 6 = 48\n",
      "8 x 7 = 56\n",
      "8 x 8 = 64\n",
      "8 x 9 = 72\n",
      "9 x 1 = 9\n",
      "9 x 2 = 18\n",
      "9 x 3 = 27\n",
      "9 x 4 = 36\n",
      "9 x 5 = 45\n",
      "9 x 6 = 54\n",
      "9 x 7 = 63\n",
      "9 x 8 = 72\n",
      "9 x 9 = 81\n"
     ]
    }
   ],
   "source": [
    "for i in range(2,10):\n",
    "    for a in range(1,10):\n",
    "        print(\"%d x %d = %d\" %(i,a,i*a))"
   ]
  },
  {
   "cell_type": "code",
   "execution_count": 144,
   "metadata": {},
   "outputs": [
    {
     "name": "stdout",
     "output_type": "stream",
     "text": [
      "부울 타입이 아닙니다. \n",
      "부울 타입이 아닙니다. \n",
      "부울 타입이 아닙니다. \n",
      "부울 타입입니다.\n",
      "부울 타입이 아닙니다. \n"
     ]
    }
   ],
   "source": [
    "list = [\"1\",2,3.5,True,4]\n",
    "\n",
    "#반복문을 사용해서 부울 타입을 만나면 bool 타입이라고 출력\n",
    "\n",
    "\n",
    "\n",
    "for i in list:\n",
    "    if type(i) is bool:\n",
    "        print(\"부울 타입입니다.\")\n",
    "    else:\n",
    "        print(\"부울 타입이 아닙니다. \")\n",
    "\n"
   ]
  },
  {
   "cell_type": "markdown",
   "metadata": {},
   "source": [
    "while\n",
    "조건을 만족하면 계속 반복\n",
    "\n",
    "bool표현식이 참인 동안 계속 반복\n",
    "\n",
    "while 조건:\n",
    "문장\n",
    "문장\n"
   ]
  },
  {
   "cell_type": "code",
   "execution_count": 171,
   "metadata": {},
   "outputs": [
    {
     "name": "stdout",
     "output_type": "stream",
     "text": [
      "틀리셨습니다.\n",
      "틀리셨습니다.\n"
     ]
    }
   ],
   "source": [
    "# 학생들 리스트에서 무작위로 한명 선택해서 마피아를 결정하고 3번의 기회를 통해 마피아를 찾는 게임을 만드시오.\n",
    "# 사용자로부터 찾을때까지 입력을 받아야함.\n",
    "\n",
    "import random\n",
    "students = ['체은','다빈','영희','민지','은지']\n",
    "mafia =random.choice(students)\n",
    "\n",
    "\n",
    "\n",
    "\n",
    "for a in range(2):\n",
    "    a= input(\"마피아를 맞춰보세요.\")\n",
    "    if mafia==a:\n",
    "        print(\"맞췄습니다.\")\n",
    "        break\n",
    "    else:\n",
    "        print (\"틀리셨습니다.\")\n",
    "\n",
    "\n",
    "\n",
    "\n",
    "\n"
   ]
  },
  {
   "cell_type": "code",
   "execution_count": 6,
   "metadata": {},
   "outputs": [
    {
     "name": "stdout",
     "output_type": "stream",
     "text": [
      "땡 2번 남음\n",
      "땡 1번 남음\n",
      "땡 0번 남음\n"
     ]
    }
   ],
   "source": [
    "s = list(input().split(','))\n",
    "mafia = random.choice(s)\n",
    " \n",
    "for i in range(3):\n",
    "    if input() == mafia:\n",
    "        print('마피아를 찾았습니다.')\n",
    "    else:\n",
    "        print(f'땡 {2 -i}번 남음')\n",
    " "
   ]
  },
  {
   "cell_type": "code",
   "execution_count": 7,
   "metadata": {},
   "outputs": [
    {
     "ename": "ValueError",
     "evalue": "invalid literal for int() with base 10: '자'",
     "output_type": "error",
     "traceback": [
      "\u001b[0;31m---------------------------------------------------------------------------\u001b[0m",
      "\u001b[0;31mValueError\u001b[0m                                Traceback (most recent call last)",
      "Cell \u001b[0;32mIn[7], line 5\u001b[0m\n\u001b[1;32m      3\u001b[0m \u001b[38;5;28;01mimport\u001b[39;00m \u001b[38;5;21;01mrandom\u001b[39;00m\n\u001b[1;32m      4\u001b[0m random_num \u001b[38;5;241m=\u001b[39m random\u001b[38;5;241m.\u001b[39mrandint(\u001b[38;5;241m1\u001b[39m,\u001b[38;5;241m100\u001b[39m)\n\u001b[0;32m----> 5\u001b[0m a \u001b[38;5;241m=\u001b[39m \u001b[38;5;28;43mint\u001b[39;49m\u001b[43m(\u001b[49m\u001b[38;5;28;43minput\u001b[39;49m\u001b[43m(\u001b[49m\u001b[38;5;124;43m\"\u001b[39;49m\u001b[38;5;124;43m숫자를 맞춰보세용\u001b[39;49m\u001b[38;5;124;43m\"\u001b[39;49m\u001b[43m)\u001b[49m\u001b[43m)\u001b[49m\n\u001b[1;32m      6\u001b[0m count \u001b[38;5;241m=\u001b[39m\u001b[38;5;241m0\u001b[39m \n\u001b[1;32m     10\u001b[0m \u001b[38;5;28;01mfor\u001b[39;00m i \u001b[38;5;129;01min\u001b[39;00m \u001b[38;5;28mrange\u001b[39m(\u001b[38;5;241m11\u001b[39m):\n",
      "\u001b[0;31mValueError\u001b[0m: invalid literal for int() with base 10: '자'"
     ]
    }
   ],
   "source": [
    "# 10번의 기회를 통해 해당 랜덤 수를 맞추는 게임을 작성하시오.\n",
    "# 사용자로부터 맞추기 위한 숫자를 입력 받아야함.\n",
    "import random\n",
    "random_num = random.randint(1,100)\n",
    "a = int(input(\"숫자를 맞춰보세용\"))\n",
    "count =0 \n",
    "\n",
    "\n",
    "\n",
    "for i in range(11):\n",
    "    a = int(input(\"숫자를 맞춰보세용\"))\n",
    "    count+=1\n",
    "    if random_num == a:\n",
    "       print(\"정답입니당~\")\n",
    "       break\n",
    "    elif random_num >= a:\n",
    "       print(\"큰 숫자를 쓰세요!\")\n",
    "    else :\n",
    "       print(\"낮은 숫자를 쓰세요!\")\n",
    " \n",
    "print(f'{count}번 만에 맞추셨습니다.')\n",
    "\n",
    "\n",
    "\n",
    "\n"
   ]
  },
  {
   "cell_type": "code",
   "execution_count": null,
   "metadata": {},
   "outputs": [
    {
     "name": "stdout",
     "output_type": "stream",
     "text": [
      "[36, 10, 46, 31, 43, 46, 17]\n"
     ]
    }
   ],
   "source": [
    "# 로또 숫자 (1~45)를 추출하는 프로그램을 작성하시오.\n",
    "\n",
    "\n",
    "import random\n",
    "random_num = random.randint(1,46)\n",
    "\n",
    "\n",
    "# lotto = list(random_num,end=',')\n",
    "\n",
    "\n",
    "\n",
    "\n",
    "\n",
    "lotto = []\n",
    "\n",
    "\n",
    "\n",
    "for a in range(7):\n",
    "    lotto.append(random.randint(1,46))\n",
    "\n",
    "\n",
    "\n",
    "print(lotto)\n"
   ]
  },
  {
   "cell_type": "code",
   "execution_count": null,
   "metadata": {},
   "outputs": [
    {
     "name": "stdout",
     "output_type": "stream",
     "text": [
      "로또 추첨 시작\n",
      "1번째 숫자: 3\n",
      "2번째 숫자: 19\n",
      "3번째 숫자: 21\n",
      "4번째 숫자: 4\n",
      "5번째 숫자: 10\n",
      "6번째 숫자: 2\n",
      "최종 번호는\n",
      "[3, 19, 21, 4, 10, 2]\n"
     ]
    }
   ],
   "source": [
    "# 로또추첨\n",
    "\n",
    "import random\n",
    "\n",
    "rotto = []\n",
    " \n",
    "print('로또 추첨 시작')\n",
    " \n",
    "for i in range(6):\n",
    "    rotto.append(random.randint(1,45))\n",
    "    print(f'{i+1}번째 숫자: {rotto[i]}')\n",
    "   \n",
    "print('최종 번호는')\n",
    "print(rotto)"
   ]
  },
  {
   "cell_type": "code",
   "execution_count": null,
   "metadata": {},
   "outputs": [],
   "source": [
    "#a=10 , count = 0 \n",
    "# a가 3보다 클때까지 반복을 시켜라\n",
    "# a는 루프를 돌때마다 1씩 증가하고, count도 1씩 증가한다.\n",
    "# 루프를 돌 때마다 a와 count값을 출력하고\n",
    "# count가 20보다 크면 루프를 종료하고 탈출 "
   ]
  },
  {
   "cell_type": "markdown",
   "metadata": {},
   "source": [
    "function(함수)\n",
    "반복적으로 사용 가능한 동작들을 정의한 코드 블록 \n",
    "\n",
    "입력 >> 함수 >> 출력 \n",
    "\n",
    "\n",
    "Def 함수이름 ( 매개 변수 ) :\n",
    "    수행할 문장 \n",
    "    return 결과"
   ]
  },
  {
   "cell_type": "code",
   "execution_count": 8,
   "metadata": {},
   "outputs": [
    {
     "name": "stdout",
     "output_type": "stream",
     "text": [
      "3\n"
     ]
    }
   ],
   "source": [
    "\n",
    "\n",
    "# x,y는 매개 변수 \n",
    "\n",
    "def add (x,y):\n",
    "    return x+y \n",
    "\n",
    "z = add(1,2)\n",
    "print(z)"
   ]
  },
  {
   "cell_type": "markdown",
   "metadata": {},
   "source": [
    "default 매개변수\n",
    "\n",
    "def 함수 이름 (매개변수=디폴트값):\n",
    "    문장\n",
    "    return 결과"
   ]
  },
  {
   "cell_type": "code",
   "execution_count": 9,
   "metadata": {},
   "outputs": [
    {
     "name": "stdout",
     "output_type": "stream",
     "text": [
      "10\n"
     ]
    }
   ],
   "source": [
    "def add(x,y=3):\n",
    "    return x+y\n",
    "\n",
    "z= add(7)\n",
    "print(z)"
   ]
  },
  {
   "cell_type": "code",
   "execution_count": 10,
   "metadata": {},
   "outputs": [
    {
     "name": "stdout",
     "output_type": "stream",
     "text": [
      "100 200 300\n"
     ]
    }
   ],
   "source": [
    "def func_mul(x):\n",
    "    y1= x*10\n",
    "    y2= x*20\n",
    "    y3= x*30\n",
    "    return y1,y2,y3\n",
    "\n",
    "# 각각의 값이 매칭이 되서 출력된다 .\n",
    "\n",
    " \n",
    "x, y, z = func_mul(10)\n",
    "print (x,y,z)"
   ]
  },
  {
   "cell_type": "code",
   "execution_count": 11,
   "metadata": {},
   "outputs": [
    {
     "name": "stdout",
     "output_type": "stream",
     "text": [
      "(100, 200, 300) <class 'tuple'>\n"
     ]
    }
   ],
   "source": [
    "#튜플로매칭하겠다.\n",
    "\n",
    "def func_mul(x):\n",
    "    y1= x*10\n",
    "    y2= x*20\n",
    "    y3= x*30\n",
    "\n",
    "\n",
    "    return (y1,y2,y3)\n",
    "\n",
    "#튜플로 묶을거면 () , 리스트로 묶을거면 [], 딕셔너리로 묶을거면 {} \n",
    "\n",
    " \n",
    "t = func_mul(10)\n",
    "print (t,type(t))\n",
    "\n",
    "#튜플로 묶을거면 () , 리스트로 묶을거면 [], 딕셔너리로 묶을거면 {} "
   ]
  },
  {
   "cell_type": "markdown",
   "metadata": {},
   "source": [
    "# 가변 매개변수\n",
    "\n",
    "\n",
    "def 함수이름(* 매개변수):\n",
    "    문장\n",
    "\n",
    "\n",
    "\n",
    "생성된 가변 매개변수는 리스트처럼 사용이 가능\n",
    "\n",
    "제약\n",
    "- 가변변수 뒤에는 일반 매개변수가 올 수 없다.\n",
    "- 가변 매개 변수는 하나만 사용할 수 있다.\n",
    "\n",
    "\n",
    "enumerate 객체를 리턴 받을 . 수있다.\n",
    "\n",
    "\n"
   ]
  },
  {
   "cell_type": "code",
   "execution_count": 12,
   "metadata": {},
   "outputs": [
    {
     "name": "stdout",
     "output_type": "stream",
     "text": [
      "나의 카페 메뉴는\n",
      "코코아\n",
      "케모마일\n",
      "설녹차\n",
      "에이드\n"
     ]
    }
   ],
   "source": [
    "def menu (*values):\n",
    "    print('나의 카페 메뉴는')\n",
    "\n",
    "\n",
    "\n",
    "    for value in values:\n",
    "        print(value)\n",
    "\n",
    "\n",
    "menu('코코아','케모마일','설녹차','에이드')"
   ]
  },
  {
   "cell_type": "code",
   "execution_count": 13,
   "metadata": {},
   "outputs": [
    {
     "name": "stdout",
     "output_type": "stream",
     "text": [
      "나의 카페 메뉴는\n",
      "0=코코아\n",
      "1=케모마일\n",
      "2=설녹차\n",
      "3=에이드\n"
     ]
    }
   ],
   "source": [
    "def menu (*values):\n",
    "    print('나의 카페 메뉴는')\n",
    "\n",
    "\n",
    "\n",
    "#enumerate객체는 iterable 매개 변수를 넣으면 들어가면 인덱스와 벨류를 리턴\n",
    "    \n",
    "    for i,v in enumerate(values):\n",
    "        print(f'{i}={v}')\n",
    "\n",
    "\n",
    "menu('코코아','케모마일','설녹차','에이드')"
   ]
  },
  {
   "cell_type": "code",
   "execution_count": 16,
   "metadata": {},
   "outputs": [
    {
     "name": "stdout",
     "output_type": "stream",
     "text": [
      "0=lee\n",
      "0=lee\n",
      "1=park\n",
      "0=lee\n",
      "1=park\n",
      "2=kim\n"
     ]
    }
   ],
   "source": [
    "def args_func(*args):\n",
    "    for i,v in enumerate(args):\n",
    "        print(f'{i}={v}')\n",
    "\n",
    "args_func('lee')\n",
    "args_func('lee','park')\n",
    "args_func('lee','park','kim')"
   ]
  },
  {
   "cell_type": "markdown",
   "metadata": {},
   "source": [
    "딕셔너리형 반복\n",
    "\n",
    "\n",
    "**kwargs"
   ]
  },
  {
   "cell_type": "code",
   "execution_count": 18,
   "metadata": {},
   "outputs": [
    {
     "name": "stdout",
     "output_type": "stream",
     "text": [
      "name1 is lee\n",
      "name1 is lee\n",
      "name2 is kim\n",
      "name3 is park\n"
     ]
    }
   ],
   "source": [
    "def kwargs_func(**kwargs):\n",
    "    for k in kwargs.keys():\n",
    "        print(f'{k} is {kwargs[k]}')\n",
    "\n",
    "\n",
    "\n",
    "kwargs_func(name1='lee')\n",
    "kwargs_func(name1='lee',name2='kim',name3='park')"
   ]
  },
  {
   "cell_type": "code",
   "execution_count": 23,
   "metadata": {},
   "outputs": [
    {
     "name": "stdout",
     "output_type": "stream",
     "text": [
      "lee ('kim',) {'age': 20}\n"
     ]
    }
   ],
   "source": [
    "def exam1(arg1, *arg2, **kwargs) :\n",
    "    print(arg1,arg2,kwargs)\n",
    "\n",
    "exam1('lee','kim',age=20)"
   ]
  },
  {
   "cell_type": "code",
   "execution_count": 26,
   "metadata": {},
   "outputs": [
    {
     "name": "stdout",
     "output_type": "stream",
     "text": [
      "10 20 ('lee', 'kim', 'park') {'age': 20, 'age1': 30}\n"
     ]
    }
   ],
   "source": [
    "def exam2(arg1, arg2,*arg3, **kwargs) :\n",
    "    print(arg1,arg2,arg3, kwargs)\n",
    "\n",
    "#  **kwargs 는 누가봐도 딕셔너리니까 일단 arg1,2는 그냥 매개변수니까 차례대로 출력되고,\n",
    "#  **kwargs 앞까지 *arg3=가변변수가 알아서 끊어준것이다.\n",
    "    \n",
    "exam2(10,20,'lee','kim','park',age=20,age1=30)"
   ]
  },
  {
   "cell_type": "markdown",
   "metadata": {},
   "source": [
    "람다식: 즉시 실행 함수\n",
    "-메모리 절약, 가독성 향상 , 코드 간결\n",
    "\n"
   ]
  },
  {
   "cell_type": "code",
   "execution_count": 27,
   "metadata": {},
   "outputs": [
    {
     "name": "stdout",
     "output_type": "stream",
     "text": [
      "18\n"
     ]
    }
   ],
   "source": [
    "def multiple(x,y):\n",
    "    return x*y\n",
    "print(multiple(3,6))"
   ]
  },
  {
   "cell_type": "code",
   "execution_count": 30,
   "metadata": {},
   "outputs": [
    {
     "name": "stdout",
     "output_type": "stream",
     "text": [
      "2500\n",
      "500\n"
     ]
    }
   ],
   "source": [
    "#1\n",
    "la_fun = lambda x,y : x*y\n",
    "print(la_fun(50,50))\n",
    "\n",
    "\n",
    "#2\n",
    "print((lambda x,y : x*y)(50,10))"
   ]
  },
  {
   "cell_type": "code",
   "execution_count": 31,
   "metadata": {},
   "outputs": [
    {
     "name": "stdout",
     "output_type": "stream",
     "text": [
      "80\n"
     ]
    }
   ],
   "source": [
    "def hap(x,y):\n",
    "    return x+y\n",
    "\n",
    "\n",
    "\n",
    "print((lambda x,y : x+y)(30,50))"
   ]
  },
  {
   "cell_type": "code",
   "execution_count": 32,
   "metadata": {},
   "outputs": [
    {
     "name": "stdout",
     "output_type": "stream",
     "text": [
      "[0, 1, 4, 9, 16]\n"
     ]
    }
   ],
   "source": [
    "# map(함수, 리스트(자료형)\n",
    "# 0~4까지 각각의 제곱근을 리스트로 출력하시오\n",
    "\n",
    "\n",
    "\n",
    "\n",
    "print(list(map(lambda x:x**2,range(5))))"
   ]
  },
  {
   "cell_type": "code",
   "execution_count": 34,
   "metadata": {},
   "outputs": [
    {
     "name": "stdout",
     "output_type": "stream",
     "text": [
      "10\n"
     ]
    }
   ],
   "source": [
    "# Reduce (함수, 시퀀스 )\n",
    "\n",
    "\n",
    "# 0~4까지 각각 총 합을 구하시오.\n",
    "\n",
    "sum=0\n",
    "\n",
    "for i in range(5):\n",
    "    sum += i \n",
    "    \n",
    "print(sum)\n",
    "\n",
    "\n"
   ]
  },
  {
   "cell_type": "code",
   "execution_count": 39,
   "metadata": {},
   "outputs": [
    {
     "data": {
      "text/plain": [
       "10"
      ]
     },
     "execution_count": 39,
     "metadata": {},
     "output_type": "execute_result"
    }
   ],
   "source": [
    "from functools import reduce\n",
    "\n",
    "\n",
    "reduce (lambda x,y: x+y, [0,1,2,3,4])\n",
    "\n",
    "\n",
    "\n",
    "\n",
    "\n",
    "\n"
   ]
  },
  {
   "cell_type": "code",
   "execution_count": 40,
   "metadata": {},
   "outputs": [
    {
     "name": "stdout",
     "output_type": "stream",
     "text": [
      "['e', 'd', 'c', 'b', 'a']\n"
     ]
    }
   ],
   "source": [
    "print(list(reversed('abcde')))"
   ]
  },
  {
   "cell_type": "code",
   "execution_count": 41,
   "metadata": {},
   "outputs": [
    {
     "data": {
      "text/plain": [
       "'edcba'"
      ]
     },
     "execution_count": 41,
     "metadata": {},
     "output_type": "execute_result"
    }
   ],
   "source": [
    "reduce(lambda x,y:y+x,'abcde')"
   ]
  },
  {
   "cell_type": "code",
   "execution_count": 47,
   "metadata": {},
   "outputs": [
    {
     "name": "stdout",
     "output_type": "stream",
     "text": [
      "[0, 1, 2, 3, 4]\n"
     ]
    }
   ],
   "source": [
    "result = []\n",
    "for i in range (10):\n",
    "    if i<5:\n",
    "        result.append(i)\n",
    "\n",
    "print(result)"
   ]
  },
  {
   "cell_type": "code",
   "execution_count": 48,
   "metadata": {},
   "outputs": [
    {
     "ename": "TypeError",
     "evalue": "'int' object is not iterable",
     "output_type": "error",
     "traceback": [
      "\u001b[0;31m---------------------------------------------------------------------------\u001b[0m",
      "\u001b[0;31mTypeError\u001b[0m                                 Traceback (most recent call last)",
      "Cell \u001b[0;32mIn[48], line 3\u001b[0m\n\u001b[1;32m      1\u001b[0m \u001b[38;5;28;01mfor\u001b[39;00m i \u001b[38;5;129;01min\u001b[39;00m \u001b[38;5;28mrange\u001b[39m(\u001b[38;5;241m10\u001b[39m):\n\u001b[1;32m      2\u001b[0m     \u001b[38;5;28;01mif\u001b[39;00m i \u001b[38;5;241m<\u001b[39m \u001b[38;5;241m5\u001b[39m :\n\u001b[0;32m----> 3\u001b[0m         \u001b[38;5;28mprint\u001b[39m(\u001b[38;5;28;43mlist\u001b[39;49m\u001b[43m(\u001b[49m\u001b[43mi\u001b[49m\u001b[43m)\u001b[49m)\n",
      "\u001b[0;31mTypeError\u001b[0m: 'int' object is not iterable"
     ]
    }
   ],
   "source": [
    "\n",
    "\n",
    "for i in range(10):\n",
    "    if i < 5 :\n",
    "        print(list(i))"
   ]
  },
  {
   "cell_type": "code",
   "execution_count": 49,
   "metadata": {},
   "outputs": [
    {
     "data": {
      "text/plain": [
       "[0, 1, 2, 3, 4]"
      ]
     },
     "execution_count": 49,
     "metadata": {},
     "output_type": "execute_result"
    }
   ],
   "source": [
    "# filter( 함수,리스트 )\n",
    "\n",
    "# 자료형 ( 함수 ( 람다식 : 조건 , 조건))\n",
    "list(filter(lambda x: x<5,range(10)))\n"
   ]
  },
  {
   "cell_type": "code",
   "execution_count": 50,
   "metadata": {},
   "outputs": [
    {
     "data": {
      "text/plain": [
       "[1,\n",
       " 3,\n",
       " 5,\n",
       " 7,\n",
       " 9,\n",
       " 11,\n",
       " 13,\n",
       " 15,\n",
       " 17,\n",
       " 19,\n",
       " 21,\n",
       " 23,\n",
       " 25,\n",
       " 27,\n",
       " 29,\n",
       " 31,\n",
       " 33,\n",
       " 35,\n",
       " 37,\n",
       " 39,\n",
       " 41,\n",
       " 43,\n",
       " 45,\n",
       " 47,\n",
       " 49,\n",
       " 51,\n",
       " 53,\n",
       " 55,\n",
       " 57,\n",
       " 59,\n",
       " 61,\n",
       " 63,\n",
       " 65,\n",
       " 67,\n",
       " 69,\n",
       " 71,\n",
       " 73,\n",
       " 75,\n",
       " 77,\n",
       " 79,\n",
       " 81,\n",
       " 83,\n",
       " 85,\n",
       " 87,\n",
       " 89,\n",
       " 91,\n",
       " 93,\n",
       " 95,\n",
       " 97,\n",
       " 99]"
      ]
     },
     "execution_count": 50,
     "metadata": {},
     "output_type": "execute_result"
    }
   ],
   "source": [
    "list(filter(lambda x: x%2==1,range(100)))"
   ]
  },
  {
   "cell_type": "code",
   "execution_count": null,
   "metadata": {},
   "outputs": [],
   "source": [
    "# 놀이기구에 입장을 한다. \n",
    "# 놀이기구의 이름과 상하한선을 입력받고\n",
    "# 아래와 같이 출력하시오\n",
    "\n",
    "# 함수를 활용해주세요.\n",
    "# 사용자 입력을 놀이기구 이름과 키의 상하한선을 입력 받는데\n",
    "# ex) ban:140 ~ 180 \n",
    "\n",
    "# ex ) \n",
    "\n",
    "# 이름: ban\n",
    "# 하한: 140\n",
    "# 상한: 180"
   ]
  },
  {
   "cell_type": "code",
   "execution_count": 57,
   "metadata": {},
   "outputs": [
    {
     "name": "stdout",
     "output_type": "stream",
     "text": [
      "어트랙션에 오신걸 환영합니다.\n",
      "ban\n"
     ]
    },
    {
     "ename": "NameError",
     "evalue": "name 'key' is not defined",
     "output_type": "error",
     "traceback": [
      "\u001b[0;31m---------------------------------------------------------------------------\u001b[0m",
      "\u001b[0;31mNameError\u001b[0m                                 Traceback (most recent call last)",
      "Cell \u001b[0;32mIn[57], line 8\u001b[0m\n\u001b[1;32m      3\u001b[0m attrection \u001b[38;5;241m=\u001b[39m \u001b[38;5;28mprint\u001b[39m(\u001b[38;5;28minput\u001b[39m(\u001b[38;5;124m\"\u001b[39m\u001b[38;5;124m놀이기구 이름을 알려주세요.\u001b[39m\u001b[38;5;124m\"\u001b[39m))\n\u001b[1;32m      5\u001b[0m attr_list \u001b[38;5;241m=\u001b[39m {\u001b[38;5;124m'\u001b[39m\u001b[38;5;124mban\u001b[39m\u001b[38;5;124m'\u001b[39m:\u001b[38;5;124m'\u001b[39m\u001b[38;5;124m140~180\u001b[39m\u001b[38;5;124m'\u001b[39m,\u001b[38;5;124m'\u001b[39m\u001b[38;5;124mcia\u001b[39m\u001b[38;5;124m'\u001b[39m:\u001b[38;5;124m'\u001b[39m\u001b[38;5;124m150~190\u001b[39m\u001b[38;5;124m'\u001b[39m,\u001b[38;5;124m'\u001b[39m\u001b[38;5;124mfire\u001b[39m\u001b[38;5;124m'\u001b[39m:\u001b[38;5;124m'\u001b[39m\u001b[38;5;124m160~210\u001b[39m\u001b[38;5;124m'\u001b[39m,\u001b[38;5;124m'\u001b[39m\u001b[38;5;124mhigh\u001b[39m\u001b[38;5;124m'\u001b[39m:\u001b[38;5;124m'\u001b[39m\u001b[38;5;124m130~190\u001b[39m\u001b[38;5;124m'\u001b[39m}\n\u001b[0;32m----> 8\u001b[0m \u001b[38;5;28mprint\u001b[39m((\u001b[38;5;124mf\u001b[39m\u001b[38;5;124m'\u001b[39m\u001b[38;5;132;01m{\u001b[39;00mattrection\u001b[38;5;132;01m}\u001b[39;00m\u001b[38;5;124m의 상하한선은 \u001b[39m\u001b[38;5;132;01m{\u001b[39;00mattr_list(\u001b[43mkey\u001b[49m)\u001b[38;5;132;01m}\u001b[39;00m\u001b[38;5;124m 입니다.\u001b[39m\u001b[38;5;124m'\u001b[39m))\n",
      "\u001b[0;31mNameError\u001b[0m: name 'key' is not defined"
     ]
    }
   ],
   "source": [
    "print(\"어트랙션에 오신걸 환영합니다.\")\n",
    "\n",
    "attrection = print(input(\"놀이기구 이름을 알려주세요.\"))\n",
    "\n",
    "attr_list = {'ban':'140~180','cia':'150~190','fire':'160~210','high':'130~190'}\n",
    "\n",
    "\n",
    "print((f'{attrection}의 상하한선은 {attr_list(key)} 입니다.'))"
   ]
  },
  {
   "cell_type": "code",
   "execution_count": 59,
   "metadata": {},
   "outputs": [
    {
     "ename": "NameError",
     "evalue": "name 'limit' is not defined",
     "output_type": "error",
     "traceback": [
      "\u001b[0;31m---------------------------------------------------------------------------\u001b[0m",
      "\u001b[0;31mNameError\u001b[0m                                 Traceback (most recent call last)",
      "Cell \u001b[0;32mIn[59], line 20\u001b[0m\n\u001b[1;32m     14\u001b[0m     \u001b[38;5;28;01mreturn\u001b[39;00m name,min_,max_\n\u001b[1;32m     16\u001b[0m     \u001b[38;5;66;03m# 이상 이런걸 벗겨내고 cm 자리에 null 삽입.\u001b[39;00m\n\u001b[0;32m---> 20\u001b[0m ridename,min_,max_ \u001b[38;5;241m=\u001b[39m \u001b[43mread\u001b[49m\u001b[43m(\u001b[49m\u001b[38;5;124;43m'\u001b[39;49m\u001b[38;5;124;43mban:140cm~180cm\u001b[39;49m\u001b[38;5;124;43m'\u001b[39;49m\u001b[43m)\u001b[49m\n\u001b[1;32m     22\u001b[0m \u001b[38;5;28mprint\u001b[39m(\u001b[38;5;124m\"\u001b[39m\u001b[38;5;124m이름: \u001b[39m\u001b[38;5;124m\"\u001b[39m,ridename)\n\u001b[1;32m     23\u001b[0m \u001b[38;5;28mprint\u001b[39m(\u001b[38;5;124m\"\u001b[39m\u001b[38;5;124m상한: \u001b[39m\u001b[38;5;124m\"\u001b[39m,max_)\n",
      "Cell \u001b[0;32mIn[59], line 5\u001b[0m, in \u001b[0;36mread\u001b[0;34m(str)\u001b[0m\n\u001b[1;32m      1\u001b[0m \u001b[38;5;28;01mdef\u001b[39;00m \u001b[38;5;21mread\u001b[39m (\u001b[38;5;28mstr\u001b[39m):\n\u001b[1;32m      2\u001b[0m     \u001b[38;5;28mmap\u001b[39m(\u001b[38;5;28;01mlambda\u001b[39;00m \u001b[38;5;28mstr\u001b[39m:\u001b[38;5;28mstr\u001b[39m\u001b[38;5;241m.\u001b[39mstrip(),\u001b[38;5;28mstr\u001b[39m\u001b[38;5;241m.\u001b[39msplit(\u001b[38;5;124m'\u001b[39m\u001b[38;5;124m:\u001b[39m\u001b[38;5;124m'\u001b[39m))\n\u001b[0;32m----> 5\u001b[0m     \u001b[38;5;28;01mif\u001b[39;00m \u001b[38;5;124m'\u001b[39m\u001b[38;5;124m~\u001b[39m\u001b[38;5;124m'\u001b[39m \u001b[38;5;129;01min\u001b[39;00m \u001b[43mlimit\u001b[49m:\n\u001b[1;32m      6\u001b[0m         min_ , max_ \u001b[38;5;241m=\u001b[39m \u001b[38;5;28mmap\u001b[39m(\u001b[38;5;28;01mlambda\u001b[39;00m x: \u001b[38;5;28mint\u001b[39m(x\u001b[38;5;241m.\u001b[39mreplace(\u001b[38;5;124m'\u001b[39m\u001b[38;5;124mcm\u001b[39m\u001b[38;5;124m'\u001b[39m,\u001b[38;5;124m'\u001b[39m\u001b[38;5;124m'\u001b[39m)),limit\u001b[38;5;241m.\u001b[39msplit(\u001b[38;5;124m'\u001b[39m\u001b[38;5;124m~\u001b[39m\u001b[38;5;124m'\u001b[39m))\n\u001b[1;32m      7\u001b[0m         \u001b[38;5;28;01mreturn\u001b[39;00m name,min_,max_\n",
      "\u001b[0;31mNameError\u001b[0m: name 'limit' is not defined"
     ]
    }
   ],
   "source": [
    "\n",
    "\n",
    "def read (str):\n",
    "    ['ban','140cm~180cm']\n",
    "    map(lambda str:str.strip(),str.split(':'))\n",
    "\n",
    "    # : 기준으로 나눔. \n",
    "\n",
    "    if '~' in limit:\n",
    "        min_ , max_ = map(lambda x: int(x.replace('cm','')),limit.split('~'))\n",
    "        return name,min_,max_\n",
    "    \n",
    "    #cm를 공백으로 바꿈 , ~ 기준으로 나눔.\n",
    "\n",
    "    elif '이상' in limit:\n",
    "        min_ = limit.sprit('이상').replace('cm','')\n",
    "        max_ = None\n",
    "    return name,min_,max_\n",
    "\n",
    "    # 이상 이런걸 벗겨내고 cm 자리에 null 삽입.\n",
    "\n",
    "\n",
    "\n",
    "ridename,min_,max_ = read('ban:140cm~180cm')\n",
    "\n",
    "\n",
    "print(\"이름: \",ridename)\n",
    "print(\"상한: \",max_)\n",
    "print(\"하한: \",min_)\n",
    "\n"
   ]
  },
  {
   "cell_type": "markdown",
   "metadata": {},
   "source": [
    "oop (object oriented programing)\n",
    "\n",
    "여러 독립적인 개체를 객체로 명명하고 객체들을 통해 서로 협력(상호작용) 하는 것 \n",
    "\n",
    "\n",
    "\n",
    "장점\n",
    "-코드 재사용\n",
    "-유지보수 용이\n",
    "\n",
    "단점\n",
    "- 실행속도가 상대적으로 느림\n",
    "- 객체가 많으면 프로그램이 사이즈가 커짐\n",
    " - 설계시 많은 시간 소요\n",
    "\n",
    "\n",
    " class jelly\n",
    "\n",
    " "
   ]
  },
  {
   "cell_type": "code",
   "execution_count": 61,
   "metadata": {},
   "outputs": [],
   "source": [
    "class Jelly:\n",
    "    pass"
   ]
  },
  {
   "cell_type": "code",
   "execution_count": 62,
   "metadata": {},
   "outputs": [],
   "source": [
    "# 객체와 인스턴스 \n",
    "# 실제 그 객체가 가지고 있는 메모리를 참조해서 사용해야 한다.\n"
   ]
  },
  {
   "cell_type": "code",
   "execution_count": 63,
   "metadata": {},
   "outputs": [],
   "source": [
    "red_jelly = Jelly() #디폴트 컨스트럭터 \n",
    "# 젤리라는 객체를 쓰기 위해선 () 를 붙여줘야한다.\n",
    "\n",
    "# red jelly는 Jelly의 인스턴스가 된다."
   ]
  },
  {
   "cell_type": "code",
   "execution_count": 64,
   "metadata": {},
   "outputs": [
    {
     "name": "stdout",
     "output_type": "stream",
     "text": [
      "4352569088 4352567120 4352564816\n"
     ]
    }
   ],
   "source": [
    "red_jelly =Jelly()\n",
    "green_jelly =Jelly()\n",
    "blue_jelly =Jelly()\n",
    "\n",
    "\n",
    "print(id(red_jelly),id(green_jelly),id(blue_jelly)) #id는 메모리 주소다. 메모리 주소가 다르다. 각각 독립적인 메모리 공간을 가진다.\n"
   ]
  },
  {
   "cell_type": "markdown",
   "metadata": {},
   "source": [
    "class 클래스 이름:\n",
    "# 인스턴스화해서 메소드에 접근할 떄 \n",
    "# 파이썬은 객체의 메소드를 정의할때 self를 명시한다.\n",
    "# 메소드를 사용할때( 불러서 사용할 때 ) self는 자동으로 전달된다.\n",
    "# self를 사용함으로써 클래스 내의 정의한 뱁버(변수)에 접근에 가능하다.\n",
    "     \n",
    "     \n",
    "     def 메소드이름(self,매개변수):\n",
    "         pass\n",
    "\n",
    "\n",
    "         "
   ]
  },
  {
   "cell_type": "code",
   "execution_count": 78,
   "metadata": {},
   "outputs": [],
   "source": [
    "class BearJelly:\n",
    "\n",
    "\n",
    "    color= str() #클래스변수\n",
    "\n",
    "\n",
    "    def set_info(self, color , taste):\n",
    "        print(f'id={self}')\n",
    "        self.color = color\n",
    "        self.taste = taste\n",
    "\n",
    "\n",
    "    def print_info(self):\n",
    "        print(\"=\"*10)\n",
    "        print(f'color = {self.color},taste={self.taste}')\n",
    "        print(\"=\"*10)\n",
    "    \n",
    "\n",
    "    def custom_info(): #self가 없기때문에 인스턴스 메소드가 아니라 클래스 메소드가 된다.\n",
    "        \n",
    "        BearJelly.color = 'blue'\n",
    "\n"
   ]
  },
  {
   "cell_type": "markdown",
   "metadata": {},
   "source": [
    "메소드에 self가 있고 없고에 따라 메모리 저장영역이 다르다.\n",
    "self가 없는 메소드는 클래스 메소드\n",
    "self가 있는 메소드는 인스턴스 메소드"
   ]
  },
  {
   "cell_type": "code",
   "execution_count": 81,
   "metadata": {},
   "outputs": [
    {
     "name": "stdout",
     "output_type": "stream",
     "text": [
      "id=<__main__.BearJelly object at 0x1036385f0>\n",
      "yellow blue\n"
     ]
    }
   ],
   "source": [
    "yellow_jelly = BearJelly()\n",
    "yellow_jelly.set_info('yellow','lemon')\n",
    "\n",
    "# yellow_jelly.print_info()\n",
    "\n",
    "BearJelly.custom_info()\n",
    "\n",
    "print(yellow_jelly.color,BearJelly.color)\n"
   ]
  },
  {
   "cell_type": "markdown",
   "metadata": {},
   "source": [
    "# 생성자 함수\n",
    "-생성자\n",
    "클래스로부터 인스턴스가 생성될때 자동으로 실행하는 함수\n",
    "클래스가 실행하면 가장먼저 생성자인 '__init__' 함수가 호출\n",
    "\n",
    "\n",
    "class 클래스 이름:\n",
    "      def __init__(self,추가적인 매개변수):\n",
    "      pass"
   ]
  },
  {
   "cell_type": "code",
   "execution_count": 82,
   "metadata": {},
   "outputs": [],
   "source": [
    "class BearJelly:\n",
    "    def __init__(self,color,taste):\n",
    "        self.color= color\n",
    "        self.taste=taste"
   ]
  },
  {
   "cell_type": "code",
   "execution_count": 87,
   "metadata": {},
   "outputs": [
    {
     "name": "stdout",
     "output_type": "stream",
     "text": [
      "yellow good\n",
      "blue cool\n"
     ]
    }
   ],
   "source": [
    "jelly_list = [\n",
    "    BearJelly('yellow','good'),\n",
    "    BearJelly('blue','cool'),\n",
    "    BearJelly('red','hot')\n",
    "]\n",
    "\n",
    "\n",
    "\n",
    "\n",
    "print(jelly_list[0].color,jelly_list[0].taste)\n",
    "\n",
    "print(jelly_list[1].color,jelly_list[1].taste)\n",
    "\n",
    "\n",
    "\n"
   ]
  },
  {
   "cell_type": "markdown",
   "metadata": {},
   "source": [
    "# 상속\n",
    "- 부모와 자식관계에서 자식은 부모의 재산을 상속할 수있다.\n",
    "- 상위 클래스 ( = parent class, super class)\n",
    "- 하위 클래스 ( = child class, sub class)\n",
    "\n",
    "# 이유\n",
    "- 기존 클래스를 변경하지 않고 기능을 추가 \n",
    "\n",
    "- 공통기능을 상위클래스에서 구현하고 하위클래스에서 자신의 기능만 구현해서 유지보수 및 기능개발에 편리\n",
    "\n",
    "\n",
    "\n",
    "# 상속의 선언\n",
    "\n",
    "- 자식클래스를 선언할때 소괄호 ()로 부모클래스를 명기\n",
    "- 부모클래스의 속성과 메소드(함수)는 자식클래스에서 자동으로 포함\n",
    "\n",
    "\n",
    "\n",
    "# 메소드 오버라이딩\n",
    "\n",
    "- 부모클래스의 메소드를 자식클래스에서 재정의하는것 \n",
    "\n",
    "\n",
    "\n",
    "# 부모 메소드 호출\n",
    "\n",
    "- super() 키워드를 사용 \n"
   ]
  },
  {
   "cell_type": "code",
   "execution_count": 105,
   "metadata": {},
   "outputs": [],
   "source": [
    "class Jelly:\n",
    "    def __init__(self,color,taste):\n",
    "        self.color=color\n",
    "        self.taste=taste\n",
    "\n",
    "\n",
    "\n",
    "    def set_price(self,price):\n",
    "        self.price = price\n",
    "\n",
    "\n",
    "\n",
    "# class의 정보출력함수\n",
    "    def __str__(self):\n",
    "        return f'Jelly parent class 가격은 {self.price} 색깔은 {self.color} 맛은 {self.taste}'\n",
    "    \n",
    "\n"
   ]
  },
  {
   "cell_type": "code",
   "execution_count": 108,
   "metadata": {},
   "outputs": [],
   "source": [
    "\n",
    "class RedJelly(Jelly):\n",
    "\n",
    "\n",
    "    def set_price(self, price):\n",
    "        print(f'RedJelly child class set_price 함수입니다.')\n",
    "        super().set_price(price)\n",
    "        self.price = price\n",
    "\n",
    "\n",
    "    def print_info(self):\n",
    "        print(f'Parent class info = {super().__str__()}')\n",
    "        print(f'RedJelly {self.color},{self.taste},{self.price}')\n",
    "    "
   ]
  },
  {
   "cell_type": "code",
   "execution_count": 110,
   "metadata": {},
   "outputs": [
    {
     "name": "stdout",
     "output_type": "stream",
     "text": [
      "RedJelly child class set_price 함수입니다.\n",
      "Parent class info = Jelly parent class 가격은 100 색깔은 red 맛은 hot\n",
      "RedJelly red,hot,100\n"
     ]
    }
   ],
   "source": [
    "red_jelly = RedJelly('red','hot')\n",
    "red_jelly.set_price (100)\n",
    "red_jelly.print_info()"
   ]
  },
  {
   "cell_type": "markdown",
   "metadata": {},
   "source": [
    "아이폰과 안드로이드가 있다 \n",
    "둘다 스마트폰이다.\n",
    "두개의 기종 모드 브랜드와 제조사를 ㅏ지고 있으며\n",
    "안드로이드는 마이크로 usb를 통해 charge가 가능하고 아이폰은 라이트닝케이블을 통해 충전이 가능하다.\n",
    "\n",
    "아이폰과 안드로이드 객체를 생성하고\n",
    "\n",
    "충전 가능하도록 코딩하시오.\n",
    "\n"
   ]
  },
  {
   "cell_type": "code",
   "execution_count": 112,
   "metadata": {},
   "outputs": [
    {
     "name": "stdout",
     "output_type": "stream",
     "text": [
      "Samsung,{'manufacture': 'samsung', 'price': 1000}\n",
      "충전 케이블은 MicroUSB입니다.\n",
      "apple,{'manufacture': 'apple', 'price': 5000}\n",
      "충전 케이블은 Lighting입니다.\n"
     ]
    }
   ],
   "source": [
    "class smartphone:\n",
    "    def __init__(self,brand,information):\n",
    "        self.brand = brand\n",
    "        self.information = information\n",
    "\n",
    "    def __str__ (self):\n",
    "        return f'{self.brand},{self.information}'\n",
    "    \n",
    "    def charge(self,cable):\n",
    "        print(cable)      \n",
    "\n",
    "class Cable:\n",
    "    def __init__ (self,name):\n",
    "        self.name = name\n",
    "\n",
    "    def __str__ (self):\n",
    "        return f'충전 케이블은 {self.name}입니다.'  \n",
    "\n",
    "\n",
    "class Android(smartphone):\n",
    "    def get_info(self):\n",
    "        return super().__str__()\n",
    "\n",
    "class Iphone(smartphone):\n",
    "      def get_info(self):\n",
    "          return super().__str__()\n",
    "\n",
    "\n",
    "\n",
    "\n",
    "\n",
    "android = Android('Samsung',{'manufacture':'samsung','price':1000})\n",
    "print(android.get_info())\n",
    "android.charge(Cable('MicroUSB'))\n",
    "\n",
    "\n",
    "android = Android('apple',{'manufacture':'apple','price':5000})\n",
    "print(android.get_info())\n",
    "android.charge(Cable('Lighting'))"
   ]
  },
  {
   "cell_type": "code",
   "execution_count": 113,
   "metadata": {},
   "outputs": [],
   "source": [
    "class iphone(smartphone):\n",
    "    def set_charge(self,charge): \n",
    "        print(f'iphone은 {iphone.set_charge}로 충전이 가능합니다.')\n",
    "\n",
    "\n",
    "        "
   ]
  },
  {
   "cell_type": "markdown",
   "metadata": {},
   "source": [
    "연필과 지우개가 있다\n",
    "둘 다 기본적으로 가격과 상품이름을 가지고 있으며\n",
    "연필은 패키지 개수가 12개 지우개는 5개가 존재한다.\n",
    "각각 package 가격을 출력해보자.\n"
   ]
  },
  {
   "cell_type": "code",
   "execution_count": 114,
   "metadata": {},
   "outputs": [],
   "source": [
    "class product:\n",
    "    def __init__(self,money,name):\n",
    "        self.money = money\n",
    "        self.name = name\n",
    "        print(f'상품의 이름은 {self.name}이고,가격은 {self.money}입니다.')\n",
    "\n",
    "\n",
    "    def hap(self,pencil,eraser):\n",
    "        self.pencil = pencil \n",
    "        self.eraser = eraser\n",
    "    \n",
    "\n",
    "        print"
   ]
  },
  {
   "cell_type": "code",
   "execution_count": 121,
   "metadata": {},
   "outputs": [
    {
     "name": "stdout",
     "output_type": "stream",
     "text": [
      "모나미의 패키지 가격은 6000입니다.\n",
      "지우개의 패키지 가격은 5000입니다.\n"
     ]
    }
   ],
   "source": [
    "class info:\n",
    "    def __init__(self,name):\n",
    "        self.name = name\n",
    "\n",
    "\n",
    "    def comonFunc():\n",
    "        pass\n",
    "\n",
    "    #def package_price(self):\n",
    "        #return self.price*5\n",
    "    \n",
    "    \n",
    "class Pencil(info):\n",
    "\n",
    "    def __init__(self,name,price):\n",
    "        super().__init__(name)\n",
    "        self.price = price\n",
    "\n",
    "\n",
    "    def package_price(self):\n",
    "         self.package_price = self.price * 12\n",
    "        \n",
    "\n",
    "    def __str__(self):\n",
    "        return f'{self.name}의 패키지 가격은 {self.package_price}입니다.'\n",
    "        \n",
    "\n",
    "class Remover(info):\n",
    "    def __init__(self,name,price):\n",
    "        super().__init__(name)\n",
    "        self.price = price\n",
    "\n",
    "\n",
    "    def package_price(self):\n",
    "        self.package_price = self.price *  5 \n",
    "    \n",
    "    def __str__(self):\n",
    "        return f'{self.name}의 패키지 가격은 {self.package_price}입니다.'\n",
    "    \n",
    "\n",
    "\n",
    "pencil = Pencil('모나미',500)\n",
    "pencil.package_price()\n",
    "print(pencil)\n",
    "\n",
    "\n",
    "\n",
    "remover = Remover('지우개',1000)\n",
    "remover.package_price()\n",
    "print(remover)\n",
    "    \n",
    "\n"
   ]
  },
  {
   "cell_type": "markdown",
   "metadata": {},
   "source": [
    "# 공통의 생명력 1000이 있다.\n",
    "전사와 마법사는 공격을 당하면\n",
    "기본적으로 10의 생명이 소모 외에 주 캐릭터 별로 15,5의 생명력이 추가로 소모된다.\n",
    "\n",
    "각각 캐릭터 별로 각각 공격을 여러번 당했을때 \n",
    "남은 생명력을 출력하는 예제를 객체를 통해 구현해보자.\n"
   ]
  },
  {
   "cell_type": "code",
   "execution_count": 129,
   "metadata": {},
   "outputs": [
    {
     "name": "stdout",
     "output_type": "stream",
     "text": [
      "<function warrior.warrior_attack at 0x107b64400>\n"
     ]
    }
   ],
   "source": [
    "\n",
    "\n",
    "\n",
    "class nomal_chr :\n",
    "\n",
    "    hp = 1000\n",
    "\n",
    "    def __init__ (self):\n",
    "        #nomal_hp=1000\n",
    "        pass\n",
    "\n",
    "    def attack(self):\n",
    "        nomal_chr.hp -= 10 \n",
    "\n",
    "\n",
    "\n",
    "class Wizard(nomal_chr):\n",
    "\n",
    "\n",
    "    def __init__ (self):\n",
    "        super().__init__()\n",
    "\n",
    "        \n",
    "    def wizard_attack(self,wizard_hp):\n",
    "        self.wizard_hp = wizard_hp\n",
    "        wizzard_hp = self.attack -10 \n",
    "        self.wizard_all_hp = self.hp - wizzard_hp\n",
    "        print(f'wizard의 체력이 {self.wizzard_all_hp} 남았습니다.')\n",
    "\n",
    "\n",
    "# init은 생성자함수여서 init을 불러오면 부모 클래스가 호출된다.\n",
    "\n",
    "class warrior(nomal_chr):\n",
    "        \n",
    "     def __init__ (self):\n",
    "        super().__init__()\n",
    "        \n",
    "     def warrior_attack(self,warrior_hp):\n",
    "        self.warrior_hp = warrior_hp\n",
    "        warrior_hp = self.attack -5 \n",
    "        self.warrior_all_hp = self.hp - warrior_hp\n",
    "        print(f'warrior의 체력이 {self.warrior_all_hp} 남았습니다.')\n",
    "\n",
    "\n",
    "\n",
    "print(warrior.warrior_attack)\n",
    "\n"
   ]
  },
  {
   "cell_type": "markdown",
   "metadata": {},
   "source": [
    "# 모듈 \n",
    "# 모듈은 여러 변수와 함수를 가지고 있는 집합 \n",
    "\n",
    "\n",
    "\n",
    "\n",
    "- 내부 모듈\n",
    "파이썬 내부에 기본적으로 내장되어 있는 함수\n",
    "\n",
    "\n",
    "\n",
    "\n",
    "impoert 모듈 이름\n",
    "\n",
    "- 외부 모듈 \n",
    "\n",
    "\n"
   ]
  },
  {
   "cell_type": "code",
   "execution_count": 131,
   "metadata": {},
   "outputs": [
    {
     "name": "stdout",
     "output_type": "stream",
     "text": [
      "['/Users/kwoncheeun/vscode_python/ch_01', '/Library/Frameworks/Python.framework/Versions/3.12/lib/python312.zip', '/Library/Frameworks/Python.framework/Versions/3.12/lib/python3.12', '/Library/Frameworks/Python.framework/Versions/3.12/lib/python3.12/lib-dynload', '', '/Users/kwoncheeun/Library/Python/3.12/lib/python/site-packages', '/Library/Frameworks/Python.framework/Versions/3.12/lib/python3.12/site-packages']\n"
     ]
    }
   ],
   "source": [
    "import sys \n",
    "print (sys.path)"
   ]
  },
  {
   "cell_type": "code",
   "execution_count": 133,
   "metadata": {},
   "outputs": [
    {
     "ename": "TypeError",
     "evalue": "math.ceil() takes exactly one argument (2 given)",
     "output_type": "error",
     "traceback": [
      "\u001b[0;31m---------------------------------------------------------------------------\u001b[0m",
      "\u001b[0;31mTypeError\u001b[0m                                 Traceback (most recent call last)",
      "Cell \u001b[0;32mIn[133], line 3\u001b[0m\n\u001b[1;32m      1\u001b[0m \u001b[38;5;28;01mimport\u001b[39;00m \u001b[38;5;21;01mmath\u001b[39;00m\n\u001b[0;32m----> 3\u001b[0m \u001b[38;5;28mprint\u001b[39m(\u001b[43mmath\u001b[49m\u001b[38;5;241;43m.\u001b[39;49m\u001b[43mceil\u001b[49m\u001b[43m(\u001b[49m\u001b[38;5;241;43m1\u001b[39;49m\u001b[43m,\u001b[49m\u001b[38;5;241;43m2\u001b[39;49m\u001b[43m)\u001b[49m)\n\u001b[1;32m      4\u001b[0m math\u001b[38;5;241m.\u001b[39mfloor(\u001b[38;5;241m1\u001b[39m,\u001b[38;5;241m2\u001b[39m)\n",
      "\u001b[0;31mTypeError\u001b[0m: math.ceil() takes exactly one argument (2 given)"
     ]
    }
   ],
   "source": [
    "import math\n",
    "\n",
    "print(math.ceil(1,2))\n",
    "math.floor(1,2) # 소숫점 떨어트리기 \n",
    "math.sqrt(3) # 반올림\n"
   ]
  },
  {
   "cell_type": "code",
   "execution_count": 135,
   "metadata": {},
   "outputs": [
    {
     "name": "stdout",
     "output_type": "stream",
     "text": [
      "2024-02-08 10:54:20.322668\n"
     ]
    }
   ],
   "source": [
    "import datetime \n",
    "\n",
    "current_datetime = datetime.datetime.now()\n",
    "\n",
    "print(current_datetime)"
   ]
  },
  {
   "cell_type": "markdown",
   "metadata": {},
   "source": [
    "# from\n",
    "\n",
    "- 모듈 내에서 필요한 것만 골라서 가져올때 사용\n",
    "\n",
    "from 모듈 이름 import 가져오고 싶은 변수 또는 함수\n",
    "\n",
    "\n",
    "\n",
    "# as\n",
    "\n",
    "- 별칭\n",
    "import 모듈이름 as 모듈별칭\n",
    "\n"
   ]
  },
  {
   "cell_type": "markdown",
   "metadata": {},
   "source": [
    "person 객체 하나 만들고\n",
    "\n",
    "생성자에 이름과 나이 주소를 받을 . 수있도록 생성자를 정의하고\n",
    "\n",
    "함수로 자신의 이름과 함께 '안녕하세요. 저는 김민 입니다.' 출력할 수 있는 함수를 만드세요.\n"
   ]
  },
  {
   "cell_type": "code",
   "execution_count": 147,
   "metadata": {},
   "outputs": [
    {
     "ename": "TypeError",
     "evalue": "module() takes at most 2 arguments (3 given)",
     "output_type": "error",
     "traceback": [
      "\u001b[0;31m---------------------------------------------------------------------------\u001b[0m",
      "\u001b[0;31mTypeError\u001b[0m                                 Traceback (most recent call last)",
      "Cell \u001b[0;32mIn[147], line 2\u001b[0m\n\u001b[1;32m      1\u001b[0m \u001b[38;5;28;01mimport\u001b[39;00m \u001b[38;5;21;01mPerson\u001b[39;00m\n\u001b[0;32m----> 2\u001b[0m maria \u001b[38;5;241m=\u001b[39m \u001b[43mPerson\u001b[49m\u001b[38;5;241;43m.\u001b[39;49m\u001b[38;5;21;43m__init__\u001b[39;49m\u001b[43m \u001b[49m\u001b[43m(\u001b[49m\u001b[38;5;124;43m\"\u001b[39;49m\u001b[38;5;124;43mMaria\u001b[39;49m\u001b[38;5;124;43m\"\u001b[39;49m\u001b[43m,\u001b[49m\u001b[38;5;124;43m\"\u001b[39;49m\u001b[38;5;124;43m18\u001b[39;49m\u001b[38;5;124;43m\"\u001b[39;49m\u001b[43m,\u001b[49m\u001b[38;5;124;43m\"\u001b[39;49m\u001b[38;5;124;43mkorea daegu\u001b[39;49m\u001b[38;5;124;43m\"\u001b[39;49m\u001b[43m)\u001b[49m\n\u001b[1;32m      3\u001b[0m \u001b[38;5;28mprint\u001b[39m(maria\u001b[38;5;241m.\u001b[39mintroduce())\n",
      "\u001b[0;31mTypeError\u001b[0m: module() takes at most 2 arguments (3 given)"
     ]
    }
   ],
   "source": [
    "import Person\n",
    "maria = Person.Person_info (\"Maria\",\"18\",\"korea daegu\")\n",
    "maria.introduce()"
   ]
  },
  {
   "cell_type": "code",
   "execution_count": null,
   "metadata": {},
   "outputs": [],
   "source": [
    "import animal\n",
    "\n",
    "print(animal.cat)\n",
    "\n",
    "\n",
    "\n",
    "# 지정\n",
    "\n",
    "from animal import cat,rabbit_run\n",
    "\n",
    "print(rabbit_run())\n",
    "\n",
    "\n",
    "\n",
    "\n",
    "import animal as ani\n",
    "\n",
    "print(ani.rabbit_run)"
   ]
  },
  {
   "cell_type": "code",
   "execution_count": null,
   "metadata": {},
   "outputs": [],
   "source": [
    "#"
   ]
  },
  {
   "cell_type": "markdown",
   "metadata": {},
   "source": [
    "# 예외처리\n",
    "\n",
    "1. 컴파일시 오류(구문오류)\n",
    "\n",
    "- syntax error\n",
    "\n",
    "ex) print('갑니다)\n",
    "\n",
    "\n",
    "\n",
    "2. 런타입 오류\n",
    "\n",
    "-실행중에 발생하는 오류\n",
    "\n",
    "a=10\n",
    "b=15\n",
    "\n",
    "print(c)\n",
    "\n",
    "x=[50,60,70]\n",
    "x=[5]\n",
    "\n",
    "\n",
    "\n",
    "try - except\n",
    "\n",
    "try 예외가 발생할 수 있는 가능성이 있는 코드 삽입\n",
    "except 문제 발생시 실행할 코드 삽입\n",
    "\n",
    "\n",
    "try:\n",
    "   pass\n",
    "except:\n",
    "   pass\n",
    "\n",
    "\n",
    "   "
   ]
  },
  {
   "cell_type": "code",
   "execution_count": 148,
   "metadata": {},
   "outputs": [
    {
     "name": "stdout",
     "output_type": "stream",
     "text": [
      "오류발생\n"
     ]
    }
   ],
   "source": [
    "try:\n",
    "    my_list = [1,2,3,4]\n",
    "    my_list[7]\n",
    "except:\n",
    "    print('오류발생')\n",
    "    "
   ]
  },
  {
   "cell_type": "code",
   "execution_count": 154,
   "metadata": {},
   "outputs": [
    {
     "name": "stdout",
     "output_type": "stream",
     "text": [
      "숫자를 0으로 나눌 수 없어요.\n"
     ]
    }
   ],
   "source": [
    "y=[10,20,30]\n",
    "\n",
    "try:\n",
    "    index , x = map(int,input(\"인덱스와 나이를 쉼표를 기준으로 입력하시오.\").split(','))\n",
    "    print(y[index]/x)\n",
    "\n",
    "except ZeroDivisionError:\n",
    "    print('숫자를 0으로 나눌 수 없어요.')\n",
    "except IndexError:\n",
    "    print('잘못된 인덱스 입니다.')"
   ]
  },
  {
   "cell_type": "code",
   "execution_count": 157,
   "metadata": {},
   "outputs": [
    {
     "name": "stdout",
     "output_type": "stream",
     "text": [
      "인덱스를 나이로 나눌겁니다.\n",
      "2.0\n"
     ]
    }
   ],
   "source": [
    "y=[10,20,30]\n",
    "\n",
    "\n",
    "print(\"인덱스를 나이로 나눌겁니다.\")\n",
    "\n",
    "try:\n",
    "    index , x = map(int,input(\"인덱스와 나이를 쉼표를 기준으로 입력하시오.\").split(','))\n",
    "    print(y[index]/x)\n",
    "\n",
    "except Exception as e: \n",
    "#모든 에러의 부모\n",
    "    print(\"예외 발생\",e)\n",
    "\n",
    "# >> 이렇게 많이 쓴다.\n"
   ]
  },
  {
   "cell_type": "code",
   "execution_count": 158,
   "metadata": {},
   "outputs": [
    {
     "name": "stdout",
     "output_type": "stream",
     "text": [
      "오류발생 3의 배수가 아닙니다.\n"
     ]
    }
   ],
   "source": [
    "#3의 배수가 아니면 오류를 던지겠다.\n",
    "\n",
    "\n",
    "try:\n",
    "    x=int(input('3의 배수를 입력해주세요.'))\n",
    "    if x % 3 !=0:\n",
    "        raise Exception(\"3의 배수가 아닙니다.\")\n",
    "    print(x)\n",
    "except Exception as e:\n",
    "    print('오류발생',e)"
   ]
  },
  {
   "cell_type": "code",
   "execution_count": 1,
   "metadata": {},
   "outputs": [
    {
     "name": "stdout",
     "output_type": "stream",
     "text": [
      "3의 배수가 아닙니다.\n"
     ]
    }
   ],
   "source": [
    "def three_mul():\n",
    "    x= int(input('3의 배수를 입력해주세요.'))\n",
    "    if x % 3 !=0:\n",
    "       raise Exception(\"3의 배수가 아닙니다.\")\n",
    "    print(x)\n",
    "\n",
    "\n",
    "try:\n",
    "    three_mul()\n",
    "except Exception as e:\n",
    "    print(e)"
   ]
  },
  {
   "cell_type": "code",
   "execution_count": 3,
   "metadata": {},
   "outputs": [
    {
     "ename": "SyntaxError",
     "evalue": "'(' was never closed (185954170.py, line 4)",
     "output_type": "error",
     "traceback": [
      "\u001b[0;36m  Cell \u001b[0;32mIn[3], line 4\u001b[0;36m\u001b[0m\n\u001b[0;31m    x = int(input('3의 배수를 입력해주세요.')\u001b[0m\n\u001b[0m           ^\u001b[0m\n\u001b[0;31mSyntaxError\u001b[0m\u001b[0;31m:\u001b[0m '(' was never closed\n"
     ]
    }
   ],
   "source": [
    "def three_mul():\n",
    "\n",
    "   try:\n",
    "     x = int(input('3의 배수를 입력해주세요.')\n",
    "     if x % 3 !=0:\n",
    "        raise Exception(\"3의 배수가 아닙니다.\")\n",
    "     print(x)\n",
    "    \n",
    "    except Exception as e:\n",
    "        print(\"함수 내의 예외 발생\",e)\n",
    "        raise\n",
    "\n",
    "\n",
    "try:\n",
    "    three_mul()\n",
    "except Exception as e:\n",
    "    print(e)"
   ]
  },
  {
   "cell_type": "code",
   "execution_count": 4,
   "metadata": {},
   "outputs": [
    {
     "name": "stdout",
     "output_type": "stream",
     "text": [
      "입력한 숫자는 4입니다.\n"
     ]
    }
   ],
   "source": [
    "try:\n",
    "    num = int(input(\"숫자를 입력하세요.\"))\n",
    "except:\n",
    "    print(\"예외발생\")\n",
    "\n",
    "else:\n",
    "    print(f'입력한 숫자는 {num}입니다.')"
   ]
  },
  {
   "cell_type": "code",
   "execution_count": 6,
   "metadata": {},
   "outputs": [
    {
     "name": "stdout",
     "output_type": "stream",
     "text": [
      "입력한 숫자는 3입니다.\n"
     ]
    }
   ],
   "source": [
    "try:\n",
    "    num = int(input(\"숫자를 입력하세요.\"))\n",
    "except Exception as e:\n",
    "    print(\"예외발생\",e)\n",
    "\n",
    "finally: # 무조건 한번은 실행된다.\n",
    "    print(f'입력한 숫자는 {num}입니다.')"
   ]
  },
  {
   "cell_type": "code",
   "execution_count": null,
   "metadata": {},
   "outputs": [],
   "source": []
  }
 ],
 "metadata": {
  "kernelspec": {
   "display_name": "Python 3",
   "language": "python",
   "name": "python3"
  },
  "language_info": {
   "codemirror_mode": {
    "name": "ipython",
    "version": 3
   },
   "file_extension": ".py",
   "mimetype": "text/x-python",
   "name": "python",
   "nbconvert_exporter": "python",
   "pygments_lexer": "ipython3",
   "version": "3.12.1"
  }
 },
 "nbformat": 4,
 "nbformat_minor": 2
}
