{
 "cells": [
  {
   "cell_type": "markdown",
   "metadata": {},
   "source": [
    "# 웹 크롤링 \n",
    "\n",
    "웹 어플리케이션 테스트 하기 위한 도구 \n",
    "- selenium ( 크롬 브라우저로 할 수 있음 )\n",
    "\n",
    "pip install Selenium\n",
    "\n",
    "\n",
    "\n",
    "\n",
    "html , xml 문서를 구문 분석하고 데이터를 추출 \n",
    "- BeautifulSoup \n",
    "\n",
    "pip install BeatifulSoup\n",
    "\n",
    "\n",
    "chrome driver 설치 \n",
    "\n",
    "pip install chromedriver-autoinstaller"
   ]
  },
  {
   "cell_type": "code",
   "execution_count": 28,
   "metadata": {},
   "outputs": [
    {
     "name": "stdout",
     "output_type": "stream",
     "text": [
      "Requirement already satisfied: chromedriver-autoinstaller in /Library/Frameworks/Python.framework/Versions/3.12/lib/python3.12/site-packages (0.6.4)\n",
      "Requirement already satisfied: packaging>=23.1 in /Users/kwoncheeun/Library/Python/3.12/lib/python/site-packages (from chromedriver-autoinstaller) (23.2)\n",
      "\n",
      "\u001b[1m[\u001b[0m\u001b[34;49mnotice\u001b[0m\u001b[1;39;49m]\u001b[0m\u001b[39;49m A new release of pip is available: \u001b[0m\u001b[31;49m23.2.1\u001b[0m\u001b[39;49m -> \u001b[0m\u001b[32;49m24.0\u001b[0m\n",
      "\u001b[1m[\u001b[0m\u001b[34;49mnotice\u001b[0m\u001b[1;39;49m]\u001b[0m\u001b[39;49m To update, run: \u001b[0m\u001b[32;49mpip3 install --upgrade pip\u001b[0m\n",
      "Note: you may need to restart the kernel to use updated packages.\n"
     ]
    }
   ],
   "source": [
    "pip install chromedriver-autoinstaller"
   ]
  },
  {
   "cell_type": "code",
   "execution_count": 29,
   "metadata": {},
   "outputs": [],
   "source": [
    "import ssl\n",
    "\n",
    "ssl._create_default_https_context = ssl._create_unverified_context\n",
    " "
   ]
  },
  {
   "cell_type": "code",
   "execution_count": 30,
   "metadata": {},
   "outputs": [
    {
     "data": {
      "text/plain": [
       "'/Library/Frameworks/Python.framework/Versions/3.12/lib/python3.12/site-packages/chromedriver_autoinstaller/121/chromedriver'"
      ]
     },
     "execution_count": 30,
     "metadata": {},
     "output_type": "execute_result"
    }
   ],
   "source": [
    "import chromedriver_autoinstaller\n",
    "chromedriver_autoinstaller.install()"
   ]
  },
  {
   "cell_type": "code",
   "execution_count": 31,
   "metadata": {},
   "outputs": [],
   "source": [
    "\n",
    "from selenium import webdriver\n",
    "browser = webdriver.Chrome()\n",
    "\n"
   ]
  },
  {
   "cell_type": "code",
   "execution_count": 32,
   "metadata": {},
   "outputs": [],
   "source": [
    "url= \"http://www.naver.com\"\n",
    "browser.get(url) # 원격으로 접속 "
   ]
  },
  {
   "cell_type": "code",
   "execution_count": 33,
   "metadata": {},
   "outputs": [],
   "source": [
    "html= browser.page_source \n",
    "# page_source : 문자로 리턴해서 받아옴."
   ]
  },
  {
   "cell_type": "code",
   "execution_count": 34,
   "metadata": {},
   "outputs": [
    {
     "name": "stdout",
     "output_type": "stream",
     "text": [
      "<html\n",
      "lang=\"ko\"\n",
      "class=\"fzoom\"\n",
      "data-dark=\"false\"><head><script\n",
      "async=\"\"\n",
      "src=\"https://ntm.pstatic.net/ex/nlog.js\"></script><script\n",
      "async=\"\"\n",
      "src=\"https://ntm.pstatic.net/scripts/ntm_27291e35193e.js\"></script><script\n",
      "async=\"\"\n",
      "type=\"text/javascript\"\n",
      "src=\"https://ssl.pstatic.net/tveta/libs/ndpsdk/prod/ndp\n"
     ]
    }
   ],
   "source": [
    "html = html.replace(' ', '\\n')\n",
    "print(html[:300]) # 많아서 299까지만 받아내기"
   ]
  },
  {
   "cell_type": "code",
   "execution_count": 170,
   "metadata": {},
   "outputs": [],
   "source": [
    "\n",
    "html = '''\n",
    "<html>\n",
    "  <body>\n",
    "    <div class = 'sale'>\n",
    "      <p id='fruit1' class='fruit'>\n",
    "       <span class = 'name'> 바나나 </span> \n",
    "         <p>\n",
    "       <span class = 'name'> 바나나2 </span>\n",
    "         </p>\n",
    "       <span class = 'price'> 3000원 </span>\n",
    "       <span class = 'store'> 가나다 상회 </span>\n",
    "       <a href = 'http://'> 홈페이지1 </a>\n",
    "    </p>\n",
    "   </div>\n",
    " \n",
    "<div class = 'sale'>\n",
    "<p id='fruit2' class='fruit'>\n",
    "<span class = 'name'> 토마토 </span>\n",
    "<span class = 'price'> 5000원 </span>\n",
    "<span class = 'store'> 가나다 상회 </span>\n",
    "<a href = 'http://'> 홈페이지2 </a>\n",
    "</p>\n",
    "</div>\n",
    " \n",
    "<div class = 'prepare'>\n",
    "<p id='fruit3' class='fruit'>\n",
    "<span class = 'name'> 파인애플 </span>\n",
    "</p>\n",
    "</div>\n",
    "</body>\n",
    "<html>\n",
    "'''"
   ]
  },
  {
   "cell_type": "code",
   "execution_count": 171,
   "metadata": {},
   "outputs": [
    {
     "name": "stdout",
     "output_type": "stream",
     "text": [
      "Requirement already satisfied: bs4 in /Library/Frameworks/Python.framework/Versions/3.12/lib/python3.12/site-packages (0.0.2)\n",
      "Requirement already satisfied: beautifulsoup4 in /Library/Frameworks/Python.framework/Versions/3.12/lib/python3.12/site-packages (from bs4) (4.12.3)\n",
      "Requirement already satisfied: soupsieve>1.2 in /Library/Frameworks/Python.framework/Versions/3.12/lib/python3.12/site-packages (from beautifulsoup4->bs4) (2.5)\n",
      "\n",
      "\u001b[1m[\u001b[0m\u001b[34;49mnotice\u001b[0m\u001b[1;39;49m]\u001b[0m\u001b[39;49m A new release of pip is available: \u001b[0m\u001b[31;49m23.2.1\u001b[0m\u001b[39;49m -> \u001b[0m\u001b[32;49m24.0\u001b[0m\n",
      "\u001b[1m[\u001b[0m\u001b[34;49mnotice\u001b[0m\u001b[1;39;49m]\u001b[0m\u001b[39;49m To update, run: \u001b[0m\u001b[32;49mpip3 install --upgrade pip\u001b[0m\n",
      "Note: you may need to restart the kernel to use updated packages.\n"
     ]
    }
   ],
   "source": [
    "pip install bs4"
   ]
  },
  {
   "cell_type": "code",
   "execution_count": 193,
   "metadata": {},
   "outputs": [],
   "source": [
    "from bs4 import BeautifulSoup\n",
    "soup = BeautifulSoup(html,'html.parser')"
   ]
  },
  {
   "cell_type": "code",
   "execution_count": 194,
   "metadata": {},
   "outputs": [
    {
     "data": {
      "text/plain": [
       "[<span class=\"name\"> 바나나 </span>,\n",
       " <span class=\"name\"> 바나나2 </span>,\n",
       " <span class=\"price\"> 3000원 </span>,\n",
       " <span class=\"store\"> 가나다 상회 </span>,\n",
       " <span class=\"name\"> 토마토 </span>,\n",
       " <span class=\"price\"> 5000원 </span>,\n",
       " <span class=\"store\"> 가나다 상회 </span>,\n",
       " <span class=\"name\"> 파인애플 </span>]"
      ]
     },
     "execution_count": 194,
     "metadata": {},
     "output_type": "execute_result"
    }
   ],
   "source": [
    "span_tags = soup.select('span')\n",
    "span_tags"
   ]
  },
  {
   "cell_type": "code",
   "execution_count": 195,
   "metadata": {},
   "outputs": [
    {
     "data": {
      "text/plain": [
       "[<p class=\"fruit\" id=\"fruit1\">\n",
       " <span class=\"name\"> 바나나 </span>\n",
       " <p>\n",
       " <span class=\"name\"> 바나나2 </span>\n",
       " </p>\n",
       " <span class=\"price\"> 3000원 </span>\n",
       " <span class=\"store\"> 가나다 상회 </span>\n",
       " <a href=\"http://\"> 홈페이지1 </a>\n",
       " </p>,\n",
       " <p>\n",
       " <span class=\"name\"> 바나나2 </span>\n",
       " </p>,\n",
       " <p class=\"fruit\" id=\"fruit2\">\n",
       " <span class=\"name\"> 토마토 </span>\n",
       " <span class=\"price\"> 5000원 </span>\n",
       " <span class=\"store\"> 가나다 상회 </span>\n",
       " <a href=\"http://\"> 홈페이지2 </a>\n",
       " </p>,\n",
       " <p class=\"fruit\" id=\"fruit3\">\n",
       " <span class=\"name\"> 파인애플 </span>\n",
       " </p>]"
      ]
     },
     "execution_count": 195,
     "metadata": {},
     "output_type": "execute_result"
    }
   ],
   "source": [
    "# tag이름으로 가져올때 태그 이름을 명기하면 되고\n",
    "# 가져온 ResultSet은 해당 tag의 자식까지 다 가져온다.\n",
    "\n",
    "p_tags = soup.select('p')\n",
    "p_tags"
   ]
  },
  {
   "cell_type": "code",
   "execution_count": 196,
   "metadata": {},
   "outputs": [
    {
     "data": {
      "text/plain": [
       "bs4.element.ResultSet"
      ]
     },
     "execution_count": 196,
     "metadata": {},
     "output_type": "execute_result"
    }
   ],
   "source": [
    "type(span_tags)\n",
    "\n",
    "#ResultSet 타입은 파이선의 list와 유사하다"
   ]
  },
  {
   "cell_type": "code",
   "execution_count": 197,
   "metadata": {},
   "outputs": [
    {
     "data": {
      "text/plain": [
       "[<span class=\"price\"> 3000원 </span>, <span class=\"price\"> 5000원 </span>]"
      ]
     },
     "execution_count": 197,
     "metadata": {},
     "output_type": "execute_result"
    }
   ],
   "source": [
    "# .은 속성의 class  ,  # : 속성의 id\n",
    "class_price = soup.select('.price')\n",
    "class_price"
   ]
  },
  {
   "cell_type": "code",
   "execution_count": 198,
   "metadata": {},
   "outputs": [
    {
     "data": {
      "text/plain": [
       "[<p class=\"fruit\" id=\"fruit1\">\n",
       " <span class=\"name\"> 바나나 </span>\n",
       " <p>\n",
       " <span class=\"name\"> 바나나2 </span>\n",
       " </p>\n",
       " <span class=\"price\"> 3000원 </span>\n",
       " <span class=\"store\"> 가나다 상회 </span>\n",
       " <a href=\"http://\"> 홈페이지1 </a>\n",
       " </p>]"
      ]
     },
     "execution_count": 198,
     "metadata": {},
     "output_type": "execute_result"
    }
   ],
   "source": [
    "id_fruit1 = soup.select('#fruit1')\n",
    "id_fruit1"
   ]
  },
  {
   "cell_type": "code",
   "execution_count": 199,
   "metadata": {},
   "outputs": [
    {
     "data": {
      "text/plain": [
       "[<span class=\"name\"> 바나나 </span>,\n",
       " <span class=\"name\"> 바나나2 </span>,\n",
       " <span class=\"name\"> 토마토 </span>,\n",
       " <span class=\"name\"> 파인애플 </span>]"
      ]
     },
     "execution_count": 199,
     "metadata": {},
     "output_type": "execute_result"
    }
   ],
   "source": [
    "# span에 클래스 이름이 name인걸 구해라.\n",
    "\n",
    "span_tags_name = soup.select('span.name')\n",
    "\n",
    "span_tags_name"
   ]
  },
  {
   "cell_type": "code",
   "execution_count": 200,
   "metadata": {},
   "outputs": [
    {
     "data": {
      "text/plain": [
       "[<span class=\"price\"> 3000원 </span>, <span class=\"price\"> 5000원 </span>]"
      ]
     },
     "execution_count": 200,
     "metadata": {},
     "output_type": "execute_result"
    }
   ],
   "source": [
    "span_tags_price = soup.select('span.price')\n",
    "\n",
    "span_tags_price"
   ]
  },
  {
   "cell_type": "code",
   "execution_count": 201,
   "metadata": {},
   "outputs": [
    {
     "data": {
      "text/plain": [
       "[<span class=\"name\"> 바나나 </span>]"
      ]
     },
     "execution_count": 201,
     "metadata": {},
     "output_type": "execute_result"
    }
   ],
   "source": [
    "\n",
    "\n",
    "fruit1_span_name= soup.select('#fruit1 > span.name')\n",
    "# fruit1의 하위 요소인 스판.네임을 찾아라.\n",
    "# fruit1 >   = 프루트1이 더 큰 카테고리이다.\n",
    "# fruit1 직계 자식만 표시됨.\n",
    "\n",
    "fruit1_span_name\n",
    "\n"
   ]
  },
  {
   "cell_type": "code",
   "execution_count": 202,
   "metadata": {},
   "outputs": [
    {
     "data": {
      "text/plain": [
       "[<span class=\"name\"> 바나나 </span>, <span class=\"name\"> 바나나2 </span>]"
      ]
     },
     "execution_count": 202,
     "metadata": {},
     "output_type": "execute_result"
    }
   ],
   "source": [
    "fruit1_span_name1 = soup.select('#fruit1 span.name')\n",
    "fruit1_span_name1\n",
    "\n",
    "# fruit1의 하위요소 중 span이면서 name인 게 다 출력됨 . "
   ]
  },
  {
   "cell_type": "code",
   "execution_count": 203,
   "metadata": {},
   "outputs": [
    {
     "data": {
      "text/plain": [
       "[<span class=\"name\"> 바나나2 </span>]"
      ]
     },
     "execution_count": 203,
     "metadata": {},
     "output_type": "execute_result"
    }
   ],
   "source": [
    "fruit1_span_name1 = soup.select('#fruit1 > p > span.name')\n",
    "fruit1_span_name1\n",
    "\n",
    "# fruit1의 자식인 p의 자식인 span.name을 찾음.  = 바나나2"
   ]
  },
  {
   "cell_type": "markdown",
   "metadata": {},
   "source": [
    "     \n",
    "      <p id='fruit1' class='fruit'>\n",
    "       <span class = 'name'> 바나나 </span> \n",
    "         <p>\n",
    "       <span class = 'name'> 바나나2 </span>\n",
    "         </p>\n"
   ]
  },
  {
   "cell_type": "code",
   "execution_count": 204,
   "metadata": {},
   "outputs": [
    {
     "data": {
      "text/plain": [
       "[<span class=\"price\"> 5000원 </span>]"
      ]
     },
     "execution_count": 204,
     "metadata": {},
     "output_type": "execute_result"
    }
   ],
   "source": [
    "\n",
    "\n",
    "sale_fruit2 = soup.select('div.sale > #fruit2 > span.price')\n",
    "sale_fruit2\n"
   ]
  },
  {
   "cell_type": "markdown",
   "metadata": {},
   "source": [
    "div class를 불러오려면 div.이름  \n",
    "div class 밑에 있는 p id 부를때는 #이름 한다.\n",
    ".은 클래스 "
   ]
  },
  {
   "cell_type": "markdown",
   "metadata": {},
   "source": [
    "    <div class = 'sale'>\n",
    "      <p id='fruit1' class='fruit'>\n",
    "       <span class = 'name'> 바나나 </span> \n",
    "         <p>\n",
    "       <span class = 'name'> 바나나2 </span>\n",
    "         </p>\n",
    "       <span class = 'price'> 3000원 </span>\n",
    "       <span class = 'store'> 가나다 상회 </span>\n",
    "       <a href = 'http://'> 홈페이지 </a>\n",
    "    </p>\n",
    "   </div>\n",
    "\n",
    "\n",
    "   <p class= 'k' id ='uu'>\n",
    "   </p>\n",
    "\n",
    "   "
   ]
  },
  {
   "cell_type": "code",
   "execution_count": 205,
   "metadata": {},
   "outputs": [
    {
     "data": {
      "text/plain": [
       "[<span class=\"name\"> 바나나 </span>,\n",
       " <span class=\"name\"> 바나나2 </span>,\n",
       " <span class=\"name\"> 토마토 </span>,\n",
       " <span class=\"name\"> 파인애플 </span>]"
      ]
     },
     "execution_count": 205,
     "metadata": {},
     "output_type": "execute_result"
    }
   ],
   "source": [
    "tags = soup.select('span.name')\n",
    "tags"
   ]
  },
  {
   "cell_type": "code",
   "execution_count": 206,
   "metadata": {},
   "outputs": [
    {
     "data": {
      "text/plain": [
       "<span class=\"name\"> 바나나 </span>"
      ]
     },
     "execution_count": 206,
     "metadata": {},
     "output_type": "execute_result"
    }
   ],
   "source": [
    "tags = soup.select('span.name')\n",
    "tags[0] # 인덱싱하면 태그를 뽑아올 수 있다. \n",
    "# type은 태그다."
   ]
  },
  {
   "cell_type": "code",
   "execution_count": 207,
   "metadata": {},
   "outputs": [
    {
     "name": "stdout",
     "output_type": "stream",
     "text": [
      "<span class=\"name\"> 바나나 </span>\n",
      "<span class=\"name\"> 바나나2 </span>\n",
      "<span class=\"name\"> 토마토 </span>\n",
      "<span class=\"name\"> 파인애플 </span>\n"
     ]
    }
   ],
   "source": [
    "\n",
    "for t in tags:\n",
    "    print(t)\n",
    "    "
   ]
  },
  {
   "cell_type": "code",
   "execution_count": 208,
   "metadata": {},
   "outputs": [
    {
     "name": "stdout",
     "output_type": "stream",
     "text": [
      "0\n",
      "1\n",
      "2\n"
     ]
    }
   ],
   "source": [
    "\n",
    "for t in range(3):\n",
    "    tags =+1\n",
    "    print(t)\n",
    "    "
   ]
  },
  {
   "cell_type": "code",
   "execution_count": 209,
   "metadata": {},
   "outputs": [
    {
     "data": {
      "text/plain": [
       "[<span class=\"name\"> 바나나 </span>,\n",
       " <span class=\"name\"> 바나나2 </span>,\n",
       " <span class=\"name\"> 토마토 </span>,\n",
       " <span class=\"name\"> 파인애플 </span>]"
      ]
     },
     "execution_count": 209,
     "metadata": {},
     "output_type": "execute_result"
    }
   ],
   "source": [
    "soup.find_all('span',{'class':'name'})"
   ]
  },
  {
   "cell_type": "code",
   "execution_count": 210,
   "metadata": {},
   "outputs": [
    {
     "data": {
      "text/plain": [
       "[<div class=\"sale\">\n",
       " <p class=\"fruit\" id=\"fruit1\">\n",
       " <span class=\"name\"> 바나나 </span>\n",
       " <p>\n",
       " <span class=\"name\"> 바나나2 </span>\n",
       " </p>\n",
       " <span class=\"price\"> 3000원 </span>\n",
       " <span class=\"store\"> 가나다 상회 </span>\n",
       " <a href=\"http://\"> 홈페이지1 </a>\n",
       " </p>\n",
       " </div>,\n",
       " <div class=\"sale\">\n",
       " <p class=\"fruit\" id=\"fruit2\">\n",
       " <span class=\"name\"> 토마토 </span>\n",
       " <span class=\"price\"> 5000원 </span>\n",
       " <span class=\"store\"> 가나다 상회 </span>\n",
       " <a href=\"http://\"> 홈페이지2 </a>\n",
       " </p>\n",
       " </div>,\n",
       " <div class=\"prepare\">\n",
       " <p class=\"fruit\" id=\"fruit3\">\n",
       " <span class=\"name\"> 파인애플 </span>\n",
       " </p>\n",
       " </div>]"
      ]
     },
     "execution_count": 210,
     "metadata": {},
     "output_type": "execute_result"
    }
   ],
   "source": [
    "soup.find_all('div',{'class':['sale','prepare']})\n",
    "#  클래스가 세일이랑 프리페얼 다 찾아라."
   ]
  },
  {
   "cell_type": "code",
   "execution_count": 211,
   "metadata": {},
   "outputs": [
    {
     "data": {
      "text/plain": [
       "[<p class=\"fruit\" id=\"fruit2\">\n",
       " <span class=\"name\"> 토마토 </span>\n",
       " <span class=\"price\"> 5000원 </span>\n",
       " <span class=\"store\"> 가나다 상회 </span>\n",
       " <a href=\"http://\"> 홈페이지2 </a>\n",
       " </p>]"
      ]
     },
     "execution_count": 211,
     "metadata": {},
     "output_type": "execute_result"
    }
   ],
   "source": [
    "# div태그 중에 클래스가 fruit이고, 아이디가 fruit2인 요소를 출력하라\n",
    "\n",
    "\n",
    "soup.find_all('p',{'class':'fruit','id':'fruit2'})"
   ]
  },
  {
   "cell_type": "code",
   "execution_count": 212,
   "metadata": {},
   "outputs": [
    {
     "data": {
      "text/plain": [
       "<a href=\"http://\"> 홈페이지1 </a>"
      ]
     },
     "execution_count": 212,
     "metadata": {},
     "output_type": "execute_result"
    }
   ],
   "source": [
    "tag= soup.select('a')\n",
    "tag[0]"
   ]
  },
  {
   "cell_type": "code",
   "execution_count": 213,
   "metadata": {},
   "outputs": [
    {
     "data": {
      "text/plain": [
       "' 홈페이지1 '"
      ]
     },
     "execution_count": 213,
     "metadata": {},
     "output_type": "execute_result"
    }
   ],
   "source": [
    "tag= soup.select('a')[0]\n",
    "tag.text"
   ]
  },
  {
   "cell_type": "code",
   "execution_count": 217,
   "metadata": {},
   "outputs": [
    {
     "data": {
      "text/plain": [
       "[<p class=\"fruit\" id=\"fruit1\">\n",
       " <span class=\"name\"> 바나나 </span>\n",
       " <p>\n",
       " <span class=\"name\"> 바나나2 </span>\n",
       " </p>\n",
       " <span class=\"price\"> 3000원 </span>\n",
       " <span class=\"store\"> 가나다 상회 </span>\n",
       " <a href=\"http://\"> 홈페이지1 </a>\n",
       " </p>]"
      ]
     },
     "execution_count": 217,
     "metadata": {},
     "output_type": "execute_result"
    }
   ],
   "source": [
    "tags = soup.select('p#fruit1')\n",
    "tags"
   ]
  },
  {
   "cell_type": "code",
   "execution_count": 219,
   "metadata": {},
   "outputs": [
    {
     "name": "stdout",
     "output_type": "stream",
     "text": [
      "fruit1\n"
     ]
    }
   ],
   "source": [
    "for tag in tags:\n",
    "    if('id' in tag.attrs):\n",
    "        print(tag['id'])"
   ]
  },
  {
   "cell_type": "code",
   "execution_count": 221,
   "metadata": {},
   "outputs": [
    {
     "name": "stdout",
     "output_type": "stream",
     "text": [
      "<p class=\"fruit\" id=\"fruit1\">\n",
      "<span class=\"name\"> 바나나 </span>\n",
      "<p>\n",
      "<span class=\"name\"> 바나나2 </span>\n",
      "</p>\n",
      "<span class=\"price\"> 3000원 </span>\n",
      "<span class=\"store\"> 가나다 상회 </span>\n",
      "<a href=\"http://\"> 홈페이지1 </a>\n",
      "</p>\n"
     ]
    }
   ],
   "source": [
    "for tag in tags:\n",
    "    if('id' in tag.attrs):\n",
    "        if tag['id'] == 'fruit1':\n",
    "            print(tag)"
   ]
  },
  {
   "cell_type": "code",
   "execution_count": 227,
   "metadata": {},
   "outputs": [
    {
     "name": "stdout",
     "output_type": "stream",
     "text": [
      " 바나나 \n",
      " 바나나2 \n",
      " 3000원 \n",
      " 가나다 상회 \n",
      " 토마토 \n",
      " 5000원 \n",
      " 가나다 상회 \n",
      " 파인애플 \n"
     ]
    }
   ],
   "source": [
    "text_span = soup.select('span')\n",
    "\n",
    "for t in text_span:\n",
    "    print(t.text)"
   ]
  },
  {
   "cell_type": "code",
   "execution_count": 232,
   "metadata": {},
   "outputs": [
    {
     "name": "stdout",
     "output_type": "stream",
     "text": [
      "\n",
      "\n",
      " 바나나 \n",
      "\n",
      " 바나나2 \n",
      "\n",
      " 3000원 \n",
      " 가나다 상회 \n",
      " 홈페이지1 \n",
      "\n",
      "\n",
      "\n",
      "\n",
      " 토마토 \n",
      " 5000원 \n",
      " 가나다 상회 \n",
      " 홈페이지2 \n",
      "\n",
      "\n"
     ]
    }
   ],
   "source": [
    "div_sale = soup.select('div.sale')\n",
    "\n",
    "for t in div_sale:\n",
    "    print(t.text)"
   ]
  },
  {
   "cell_type": "code",
   "execution_count": 252,
   "metadata": {},
   "outputs": [
    {
     "name": "stdout",
     "output_type": "stream",
     "text": [
      "['name']  토마토 \n",
      "['price']  5000원 \n",
      "['store']  가나다 상회 \n"
     ]
    }
   ],
   "source": [
    "tag= soup.select('div > #fruit2 > span')\n",
    "\n",
    "for t in tag:\n",
    "    print(t['class'],t.text)\n",
    "\n"
   ]
  }
 ],
 "metadata": {
  "kernelspec": {
   "display_name": "Python 3",
   "language": "python",
   "name": "python3"
  },
  "language_info": {
   "codemirror_mode": {
    "name": "ipython",
    "version": 3
   },
   "file_extension": ".py",
   "mimetype": "text/x-python",
   "name": "python",
   "nbconvert_exporter": "python",
   "pygments_lexer": "ipython3",
   "version": "3.12.1"
  }
 },
 "nbformat": 4,
 "nbformat_minor": 2
}
