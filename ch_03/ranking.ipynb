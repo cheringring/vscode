{
 "cells": [
  {
   "cell_type": "code",
   "execution_count": 38,
   "metadata": {},
   "outputs": [],
   "source": [
    "from bs4 import BeautifulSoup\n",
    "\n",
    "html = driver.page_source\n",
    "soup= BeautifulSoup(html,'html.parser')\n"
   ]
  },
  {
   "cell_type": "code",
   "execution_count": 86,
   "metadata": {},
   "outputs": [
    {
     "data": {
      "text/plain": [
       "27"
      ]
     },
     "execution_count": 86,
     "metadata": {},
     "output_type": "execute_result"
    }
   ],
   "source": [
    "songs = soup.select('tbody > tr')\n",
    "\n",
    "len(songs)\n",
    "\n",
    "song= songs[0]\n",
    "len(song)"
   ]
  },
  {
   "cell_type": "code",
   "execution_count": 87,
   "metadata": {},
   "outputs": [
    {
     "data": {
      "text/plain": [
       "[<span class=\"rank\">1</span>]"
      ]
     },
     "execution_count": 87,
     "metadata": {},
     "output_type": "execute_result"
    }
   ],
   "source": [
    "ranking = song.select('div > .rank')\n",
    "ranking"
   ]
  },
  {
   "cell_type": "code",
   "execution_count": 97,
   "metadata": {},
   "outputs": [
    {
     "data": {
      "text/plain": [
       "[['melon', '1위', 'Love wins all', '아이유'],\n",
       " ['melon', '2위', '첫 만남은 계획대로 되지 않아', 'TWS (투어스)'],\n",
       " ['melon', '3위', '밤양갱', '비비 (BIBI)'],\n",
       " ['melon', '4위', 'To. X', '태연 (TAEYEON)'],\n",
       " ['melon', '5위', '비의 랩소디', '임재현'],\n",
       " ['melon', '6위', 'Love 119', 'RIIZE'],\n",
       " ['melon', '7위', '에피소드', '이무진'],\n",
       " ['melon', '8위', 'Perfect Night', 'LE SSERAFIM (르세라핌)'],\n",
       " ['melon',\n",
       "  '9위',\n",
       "  '그대만 있다면 (여름날 우리 X 너드커넥션 (Nerd Connection))',\n",
       "  '너드커넥션 (Nerd Connection)'],\n",
       " ['melon', '10위', 'Drama', 'aespa'],\n",
       " ['melon', '11위', '헤어지자 말해요', '박재정'],\n",
       " ['melon', '12위', 'Super Lady', '(여자)아이들'],\n",
       " ['melon', '13위', '인사', '범진'],\n",
       " ['melon', '14위', 'Wife', '(여자)아이들'],\n",
       " ['melon', '15위', '사랑은 늘 도망가', '임영웅'],\n",
       " ['melon', '16위', 'Seven (feat. Latto) - Clean Ver.', '정국'],\n",
       " ['melon', '17위', '꿈', '태연 (TAEYEON)'],\n",
       " ['melon', '18위', 'I AM', 'IVE (아이브)'],\n",
       " ['melon', '19위', 'MANIAC', 'VIVIZ (비비지)'],\n",
       " ['melon', '20위', 'Get A Guitar', 'RIIZE'],\n",
       " ['melon', '21위', '모래 알갱이', '임영웅'],\n",
       " ['melon', '22위', '우리들의 블루스', '임영웅'],\n",
       " ['melon', '23위', 'Baddie', 'IVE (아이브)'],\n",
       " ['melon', '24위', 'Love Lee', 'AKMU (악뮤)'],\n",
       " ['melon', '25위', 'Do or Die', '임영웅'],\n",
       " ['melon', '26위', '너의 모든 순간', '성시경'],\n",
       " ['melon', '27위', '다시 만날 수 있을까', '임영웅'],\n",
       " ['melon', '28위', 'You & Me', '제니 (JENNIE)'],\n",
       " ['melon', '29위', '사막에서 꽃을 피우듯', '우디 (Woody)'],\n",
       " ['melon', '30위', '이제 나만 믿어요', '임영웅'],\n",
       " ['melon', '31위', '예뻤어', 'DAY6 (데이식스)'],\n",
       " ['melon', '32위', 'Super Shy', 'NewJeans'],\n",
       " ['melon', '33위', '무지개', '임영웅'],\n",
       " ['melon', '34위', '퀸카 (Queencard)', '(여자)아이들'],\n",
       " ['melon', '35위', '잘 지내자, 우리 (여름날 우리 X 로이킴)', '로이킴'],\n",
       " ['melon', '36위', 'Hype Boy', 'NewJeans'],\n",
       " ['melon', '37위', 'London Boy', '임영웅'],\n",
       " ['melon', '38위', '후라이의 꿈', 'AKMU (악뮤)'],\n",
       " ['melon', '39위', 'Polaroid', '임영웅'],\n",
       " ['melon', '40위', '아버지', '임영웅'],\n",
       " ['melon', '41위', 'Ditto', 'NewJeans'],\n",
       " ['melon', '42위', '인생찬가', '임영웅'],\n",
       " ['melon', '43위', '한 페이지가 될 수 있게', 'DAY6 (데이식스)'],\n",
       " ['melon', '44위', '사랑인가 봐', '멜로망스'],\n",
       " ['melon', '45위', 'Standing Next to You', '정국'],\n",
       " ['melon', '46위', 'A bientot', '임영웅'],\n",
       " ['melon', '47위', 'ETA', 'NewJeans'],\n",
       " ['melon', '48위', '어떻게 이별까지 사랑하겠어, 널 사랑하는 거지', 'AKMU (악뮤)'],\n",
       " ['melon', '49위', '기억해줘요 내 모든 날과 그때를', '화곡동 청개구리'],\n",
       " ['melon', '50위', '사랑할 수밖에', '볼빨간사춘기'],\n",
       " ['melon', '51위', '사건의 지평선', '윤하 (YOUNHA)'],\n",
       " ['melon', '52위', '사랑하지 않아서 그랬어', '임한별'],\n",
       " ['melon', '53위', 'Spicy', 'aespa'],\n",
       " ['melon', '54위', '첫 눈', 'EXO'],\n",
       " ['melon', '55위', '심(心)', 'DK(디셈버)'],\n",
       " ['melon', '56위', '그대가 내 안에 박혔다(그내박)', '순순희(기태)'],\n",
       " ['melon', '57위', '연애편지', '임영웅'],\n",
       " ['melon', '58위', '별 떨어진다 (I Do)', '디오 (D.O.)'],\n",
       " ['melon', '59위', '취중고백', '김민석'],\n",
       " ['melon',\n",
       "  '60위',\n",
       "  'Yes or No (Feat. 허윤진 of LE SSERAFIM, Crush)',\n",
       "  '그루비룸 (GroovyRoom)'],\n",
       " ['melon', '61위', 'LOVE DIVE', 'IVE (아이브)'],\n",
       " ['melon', '62위', 'Kitsch', 'IVE (아이브)'],\n",
       " ['melon', '63위', '주저하는 연인들을 위해', '잔나비'],\n",
       " ['melon', '64위', '모든 날, 모든 순간 (Every day, Every Moment)', '폴킴'],\n",
       " ['melon', '65위', \"I Don't Think That I Like Her\", 'Charlie Puth'],\n",
       " ['melon', '66위', '그대가 있는 곳, 언제 어디든', '로이킴'],\n",
       " ['melon', '67위', '봄날', '방탄소년단'],\n",
       " ['melon', '68위', 'Dynamite', '방탄소년단'],\n",
       " ['melon', '69위', 'Discord', 'QWER'],\n",
       " ['melon', '70위', '해요 (2022)', '#안녕'],\n",
       " ['melon', '71위', 'Steal The Show (From “엘리멘탈”)', 'Lauv'],\n",
       " ['melon', '72위', '사랑..그게 뭔데', '지아'],\n",
       " ['melon', '73위', '이브, 프시케 그리고 푸른 수염의 아내', 'LE SSERAFIM (르세라핌)'],\n",
       " ['melon', '74위', '손오공', '세븐틴 (SEVENTEEN)'],\n",
       " ['melon', '75위', '음악의 신', '세븐틴 (SEVENTEEN)'],\n",
       " ['melon', '76위', '파이팅 해야지 (Feat. 이영지)', '부석순 (SEVENTEEN)'],\n",
       " ['melon', '77위', '물론', '허각'],\n",
       " ['melon', '78위', 'OMG', 'NewJeans'],\n",
       " ['melon', '79위', '다정히 내 이름을 부르면', '경서예지'],\n",
       " ['melon', '80위', 'After LIKE', 'IVE (아이브)'],\n",
       " ['melon', '81위', 'Fast Forward', '전소미'],\n",
       " ['melon', '82위', 'Dangerously', 'Charlie Puth'],\n",
       " ['melon', '83위', 'I Love You', '안세하'],\n",
       " ['melon', '84위', 'Smoke (Prod. Dynamicduo, Padi)', '다이나믹 듀오'],\n",
       " ['melon', '85위', 'Bubble', 'STAYC(스테이씨)'],\n",
       " ['melon', '86위', '나는 아픈 건 딱 질색이니까', '(여자)아이들'],\n",
       " ['melon', '87위', 'Off The Record', 'IVE (아이브)'],\n",
       " ['melon', '88위', '건물 사이에 피어난 장미 (Rose Blossom)', 'H1-KEY (하이키)'],\n",
       " ['melon', '89위', 'Either Way', 'IVE (아이브)'],\n",
       " ['melon', '90위', 'Attention', 'NewJeans'],\n",
       " ['melon', '91위', 'Butter', '방탄소년단'],\n",
       " ['melon', '92위', '나에게 그대만이', '탑현'],\n",
       " ['melon', '93위', 'UNFORGIVEN (feat. Nile Rodgers)', 'LE SSERAFIM (르세라핌)'],\n",
       " ['melon', '94위', '그중에 그대를 만나', '김호중'],\n",
       " ['melon', '95위', '눈이 오잖아(Feat.헤이즈)', '이무진'],\n",
       " ['melon', '96위', 'Talk Saxy', 'RIIZE'],\n",
       " ['melon', '97위', 'Merry PLLIstmas', 'PLAVE'],\n",
       " ['melon', '98위', '잠시라도 우리', '성시경'],\n",
       " ['melon', '99위', '여섯 번째 여름', 'PLAVE'],\n",
       " ['melon', '100위', 'Chill Kill', 'Red Velvet (레드벨벳)']]"
      ]
     },
     "execution_count": 97,
     "metadata": {},
     "output_type": "execute_result"
    }
   ],
   "source": [
    "song_data= []\n",
    "\n",
    "songs = soup.select('tbody > tr')\n",
    "\n",
    "song = songs[0]\n",
    "\n",
    "#ranking = song.select('div > .rank')[0].text\n",
    "\n",
    "\n",
    "for song in songs:\n",
    "    ranking = song.select('div > .rank')[0].text\n",
    "    rank_ =(ranking+\"위\")\n",
    "    title = song.select('div.ellipsis.rank01 > span > a')[0].text\n",
    "    singer = song.select('div.ellipsis.rank02 > a')[0].text\n",
    "    song_data.append(['melon',rank_, title , singer])\n",
    "\n",
    "\n",
    "\n",
    "song_data"
   ]
  },
  {
   "cell_type": "code",
   "execution_count": 98,
   "metadata": {},
   "outputs": [
    {
     "data": {
      "text/html": [
       "<div>\n",
       "<style scoped>\n",
       "    .dataframe tbody tr th:only-of-type {\n",
       "        vertical-align: middle;\n",
       "    }\n",
       "\n",
       "    .dataframe tbody tr th {\n",
       "        vertical-align: top;\n",
       "    }\n",
       "\n",
       "    .dataframe thead th {\n",
       "        text-align: right;\n",
       "    }\n",
       "</style>\n",
       "<table border=\"1\" class=\"dataframe\">\n",
       "  <thead>\n",
       "    <tr style=\"text-align: right;\">\n",
       "      <th></th>\n",
       "      <th>서비스</th>\n",
       "      <th>순위</th>\n",
       "      <th>타이틀</th>\n",
       "      <th>가수</th>\n",
       "    </tr>\n",
       "  </thead>\n",
       "  <tbody>\n",
       "    <tr>\n",
       "      <th>0</th>\n",
       "      <td>melon</td>\n",
       "      <td>1위</td>\n",
       "      <td>Love wins all</td>\n",
       "      <td>아이유</td>\n",
       "    </tr>\n",
       "    <tr>\n",
       "      <th>1</th>\n",
       "      <td>melon</td>\n",
       "      <td>2위</td>\n",
       "      <td>첫 만남은 계획대로 되지 않아</td>\n",
       "      <td>TWS (투어스)</td>\n",
       "    </tr>\n",
       "    <tr>\n",
       "      <th>2</th>\n",
       "      <td>melon</td>\n",
       "      <td>3위</td>\n",
       "      <td>밤양갱</td>\n",
       "      <td>비비 (BIBI)</td>\n",
       "    </tr>\n",
       "    <tr>\n",
       "      <th>3</th>\n",
       "      <td>melon</td>\n",
       "      <td>4위</td>\n",
       "      <td>To. X</td>\n",
       "      <td>태연 (TAEYEON)</td>\n",
       "    </tr>\n",
       "    <tr>\n",
       "      <th>4</th>\n",
       "      <td>melon</td>\n",
       "      <td>5위</td>\n",
       "      <td>비의 랩소디</td>\n",
       "      <td>임재현</td>\n",
       "    </tr>\n",
       "  </tbody>\n",
       "</table>\n",
       "</div>"
      ],
      "text/plain": [
       "     서비스  순위               타이틀            가수\n",
       "0  melon  1위     Love wins all           아이유\n",
       "1  melon  2위  첫 만남은 계획대로 되지 않아     TWS (투어스)\n",
       "2  melon  3위               밤양갱     비비 (BIBI)\n",
       "3  melon  4위             To. X  태연 (TAEYEON)\n",
       "4  melon  5위            비의 랩소디           임재현"
      ]
     },
     "execution_count": 98,
     "metadata": {},
     "output_type": "execute_result"
    }
   ],
   "source": [
    "import pandas as pd\n",
    "\n",
    "columns = ['서비스','순위','타이틀','가수'] \n",
    "# append 인덱스 갯수와 똑같아야 된당.\n",
    "pd_date = pd.DataFrame(song_data,columns=columns)\n",
    "pd_date.head()"
   ]
  },
  {
   "cell_type": "code",
   "execution_count": 100,
   "metadata": {},
   "outputs": [],
   "source": [
    "pd_date.to_excel('rankingdata/melon.xlsx',index=False)"
   ]
  }
 ],
 "metadata": {
  "kernelspec": {
   "display_name": "Python 3",
   "language": "python",
   "name": "python3"
  },
  "language_info": {
   "codemirror_mode": {
    "name": "ipython",
    "version": 3
   },
   "file_extension": ".py",
   "mimetype": "text/x-python",
   "name": "python",
   "nbconvert_exporter": "python",
   "pygments_lexer": "ipython3",
   "version": "3.12.1"
  }
 },
 "nbformat": 4,
 "nbformat_minor": 2
}
