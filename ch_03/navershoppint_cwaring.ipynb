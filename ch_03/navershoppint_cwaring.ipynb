{
 "cells": [
  {
   "cell_type": "code",
   "execution_count": 23,
   "metadata": {},
   "outputs": [],
   "source": [
    "from selenium import webdriver\n",
    "from selenium.webdriver.common.by import By\n",
    "import time\n",
    "from bs4 import BeautifulSoup\n",
    "\n",
    "driver = webdriver.Chrome()\n",
    "url = 'https://search.shopping.naver.com/search/category/100000004?NaPm=ct%3Dlswyer9b%7Cci%3Dshoppingwindow%7Ctr%3Dnsh%7Chk%3D8736af1c9683276530610242fda4ef9a14080f3a%7Ctrx%3D'\n",
    "driver.get(url)\n",
    "\n",
    "html = driver.page_source\n",
    "soup = BeautifulSoup(html, 'html.parser')\n"
   ]
  },
  {
   "cell_type": "code",
   "execution_count": 24,
   "metadata": {},
   "outputs": [],
   "source": [
    "# class는 앞에 .을 넣어줘야됨.\n",
    "\n",
    "#word= '좌식쇼파'\n",
    "#time.sleep(3)\n",
    "#input_ = driver.find_elements('css selector', 'div > ._searchInput_search_text_3CUDs' )\n",
    "#len(input_)\n",
    "\n",
    "#input_[0].clear()\n",
    "#input_[0].send_keys(word)\n",
    "\n",
    "\n",
    "word= '좌식쇼파'\n",
    "time.sleep(3)\n",
    "input_search = driver.find_elements(By.CSS_SELECTOR,'div>._searchInput_search_text_3CUDs')[0]\n",
    "#input_search= soup.select('div>._searchInput_search_text_3CUDs')\n",
    "input_search.clear()\n",
    "input_search.send_keys(word)\n",
    "#input_search"
   ]
  },
  {
   "cell_type": "code",
   "execution_count": 25,
   "metadata": {},
   "outputs": [],
   "source": [
    "search_button = driver.find_elements(By.CSS_SELECTOR,'button._searchInput_button_search_1n1aw')[0]\n",
    "search_button.click()\n"
   ]
  },
  {
   "cell_type": "code",
   "execution_count": 70,
   "metadata": {},
   "outputs": [
    {
     "data": {
      "text/plain": [
       "'포토 리뷰 이벤트 자동응모, 최대 9천원 할인 쿠폰까지\\n웰퍼니쳐 비쥬 신소재 패브릭 1인용 미니 좌식 소파\\n광고119,000원\\n배송비\\n착불\\n가구/인테리어거실가구소파좌식소파\\n최대 사용인원 : 1인용형태 : ㅡ자형구성 : 소파단품착석감 : 3단계(보통)\\n등록일 2023.09.찜하기211신고하기\\n톡톡'"
      ]
     },
     "execution_count": 70,
     "metadata": {},
     "output_type": "execute_result"
    }
   ],
   "source": [
    "#post_ = driver.find_elements(By.CSS_SELECTOR, 'div.adProduct_inner__W_nuz')[0]\n",
    "post_ = driver.find_elements(By.CSS_SELECTOR, 'div.adProduct_info_area__dTSZf')[0]\n",
    "post_.text\n"
   ]
  },
  {
   "cell_type": "code",
   "execution_count": 84,
   "metadata": {},
   "outputs": [],
   "source": [
    "button = driver.find_element(By.CSS_SELECTOR,'a.pagination_btn_page___ry_S')\n",
    "\n",
    "def next_button(driver):\n",
    "    for i in range(200):\n",
    "        button.click()\n",
    "\n"
   ]
  },
  {
   "cell_type": "code",
   "execution_count": null,
   "metadata": {},
   "outputs": [],
   "source": [
    "def naver_search(word):\n",
    "    # class는 앞에 .을 넣어줘야됨.\n",
    "    input_search = driver.find_elements(By.CSS_SELECTOR,'div>._searchInput_search_text_3CUDs')[0]\n",
    "    #input_search= soup.select('div>._searchInput_search_text_3CUDs')\n",
    "    input_search.clear()\n",
    "    input_search.send_keys(word)\n",
    "    time.sleep(2)\n",
    "    search_button = driver.find_elements(By.CSS_SELECTOR,'button._searchInput_button_search_1n1aw')[0]\n",
    "    search_button.click()\n",
    "    time.sleep(2)\n"
   ]
  },
  {
   "cell_type": "code",
   "execution_count": 78,
   "metadata": {},
   "outputs": [],
   "source": [
    "\n",
    "def get_post(driver):\n",
    "  post_ = driver.find_elements(By.CSS_SELECTOR,'div.adProduct_info_area__dTSZf')[0] \n",
    "  post__= post_.text\n",
    "  post_category = post__.split('\\n')\n",
    "  post_title = post_category[1]\n",
    "  price = post_category[2]\n",
    "  post_category = post_category[1:]\n",
    "  post_category = [item.strip() for item in post_category]\n",
    "  data = [post_title, price]\n",
    "  return data\n"
   ]
  },
  {
   "cell_type": "code",
   "execution_count": 85,
   "metadata": {},
   "outputs": [
    {
     "ename": "StaleElementReferenceException",
     "evalue": "Message: stale element reference: stale element not found\n  (Session info: chrome=122.0.6261.57); For documentation on this error, please visit: https://www.selenium.dev/documentation/webdriver/troubleshooting/errors#stale-element-reference-exception\nStacktrace:\n0   chromedriver                        0x000000010308c580 chromedriver + 3966336\n1   chromedriver                        0x0000000103084b0c chromedriver + 3934988\n2   chromedriver                        0x0000000102d07da0 chromedriver + 277920\n3   chromedriver                        0x0000000102d155c4 chromedriver + 333252\n4   chromedriver                        0x0000000102d0ce9c chromedriver + 298652\n5   chromedriver                        0x0000000102d0b79c chromedriver + 292764\n6   chromedriver                        0x0000000102d0dfe0 chromedriver + 303072\n7   chromedriver                        0x0000000102d0e078 chromedriver + 303224\n8   chromedriver                        0x0000000102d4bd64 chromedriver + 556388\n9   chromedriver                        0x0000000102d40d3c chromedriver + 511292\n10  chromedriver                        0x0000000102d408a8 chromedriver + 510120\n11  chromedriver                        0x0000000102d82bf0 chromedriver + 781296\n12  chromedriver                        0x0000000102d3efb0 chromedriver + 503728\n13  chromedriver                        0x0000000102d3fa28 chromedriver + 506408\n14  chromedriver                        0x0000000103051768 chromedriver + 3725160\n15  chromedriver                        0x0000000103055c5c chromedriver + 3742812\n16  chromedriver                        0x000000010303a250 chromedriver + 3629648\n17  chromedriver                        0x0000000103056758 chromedriver + 3745624\n18  chromedriver                        0x000000010302d5c8 chromedriver + 3577288\n19  chromedriver                        0x0000000103074fb8 chromedriver + 3870648\n20  chromedriver                        0x000000010307515c chromedriver + 3871068\n21  chromedriver                        0x000000010308477c chromedriver + 3934076\n22  libsystem_pthread.dylib             0x0000000181a2a034 _pthread_start + 136\n23  libsystem_pthread.dylib             0x0000000181a24e3c thread_start + 8\n",
     "output_type": "error",
     "traceback": [
      "\u001b[0;31m---------------------------------------------------------------------------\u001b[0m",
      "\u001b[0;31mStaleElementReferenceException\u001b[0m            Traceback (most recent call last)",
      "Cell \u001b[0;32mIn[85], line 16\u001b[0m\n\u001b[1;32m     14\u001b[0m data \u001b[38;5;241m=\u001b[39m get_post(driver)\n\u001b[1;32m     15\u001b[0m results\u001b[38;5;241m.\u001b[39mappend(data)\n\u001b[0;32m---> 16\u001b[0m next_ \u001b[38;5;241m=\u001b[39m \u001b[43mnext_button\u001b[49m\u001b[43m(\u001b[49m\u001b[43mdriver\u001b[49m\u001b[43m)\u001b[49m\n\u001b[1;32m     17\u001b[0m \u001b[38;5;28;01mif\u001b[39;00m next_ \u001b[38;5;241m==\u001b[39m \u001b[38;5;28;01mFalse\u001b[39;00m:\n\u001b[1;32m     18\u001b[0m   \u001b[38;5;28;01mbreak\u001b[39;00m\n",
      "Cell \u001b[0;32mIn[84], line 5\u001b[0m, in \u001b[0;36mnext_button\u001b[0;34m(driver)\u001b[0m\n\u001b[1;32m      3\u001b[0m \u001b[38;5;28;01mdef\u001b[39;00m \u001b[38;5;21mnext_button\u001b[39m(driver):\n\u001b[1;32m      4\u001b[0m     \u001b[38;5;28;01mfor\u001b[39;00m i \u001b[38;5;129;01min\u001b[39;00m \u001b[38;5;28mrange\u001b[39m(\u001b[38;5;241m200\u001b[39m):\n\u001b[0;32m----> 5\u001b[0m         \u001b[43mbutton\u001b[49m\u001b[38;5;241;43m.\u001b[39;49m\u001b[43mclick\u001b[49m\u001b[43m(\u001b[49m\u001b[43m)\u001b[49m\n",
      "File \u001b[0;32m/Library/Frameworks/Python.framework/Versions/3.12/lib/python3.12/site-packages/selenium/webdriver/remote/webelement.py:94\u001b[0m, in \u001b[0;36mWebElement.click\u001b[0;34m(self)\u001b[0m\n\u001b[1;32m     92\u001b[0m \u001b[38;5;28;01mdef\u001b[39;00m \u001b[38;5;21mclick\u001b[39m(\u001b[38;5;28mself\u001b[39m) \u001b[38;5;241m-\u001b[39m\u001b[38;5;241m>\u001b[39m \u001b[38;5;28;01mNone\u001b[39;00m:\n\u001b[1;32m     93\u001b[0m \u001b[38;5;250m    \u001b[39m\u001b[38;5;124;03m\"\"\"Clicks the element.\"\"\"\u001b[39;00m\n\u001b[0;32m---> 94\u001b[0m     \u001b[38;5;28;43mself\u001b[39;49m\u001b[38;5;241;43m.\u001b[39;49m\u001b[43m_execute\u001b[49m\u001b[43m(\u001b[49m\u001b[43mCommand\u001b[49m\u001b[38;5;241;43m.\u001b[39;49m\u001b[43mCLICK_ELEMENT\u001b[49m\u001b[43m)\u001b[49m\n",
      "File \u001b[0;32m/Library/Frameworks/Python.framework/Versions/3.12/lib/python3.12/site-packages/selenium/webdriver/remote/webelement.py:395\u001b[0m, in \u001b[0;36mWebElement._execute\u001b[0;34m(self, command, params)\u001b[0m\n\u001b[1;32m    393\u001b[0m     params \u001b[38;5;241m=\u001b[39m {}\n\u001b[1;32m    394\u001b[0m params[\u001b[38;5;124m\"\u001b[39m\u001b[38;5;124mid\u001b[39m\u001b[38;5;124m\"\u001b[39m] \u001b[38;5;241m=\u001b[39m \u001b[38;5;28mself\u001b[39m\u001b[38;5;241m.\u001b[39m_id\n\u001b[0;32m--> 395\u001b[0m \u001b[38;5;28;01mreturn\u001b[39;00m \u001b[38;5;28;43mself\u001b[39;49m\u001b[38;5;241;43m.\u001b[39;49m\u001b[43m_parent\u001b[49m\u001b[38;5;241;43m.\u001b[39;49m\u001b[43mexecute\u001b[49m\u001b[43m(\u001b[49m\u001b[43mcommand\u001b[49m\u001b[43m,\u001b[49m\u001b[43m \u001b[49m\u001b[43mparams\u001b[49m\u001b[43m)\u001b[49m\n",
      "File \u001b[0;32m/Library/Frameworks/Python.framework/Versions/3.12/lib/python3.12/site-packages/selenium/webdriver/remote/webdriver.py:347\u001b[0m, in \u001b[0;36mWebDriver.execute\u001b[0;34m(self, driver_command, params)\u001b[0m\n\u001b[1;32m    345\u001b[0m response \u001b[38;5;241m=\u001b[39m \u001b[38;5;28mself\u001b[39m\u001b[38;5;241m.\u001b[39mcommand_executor\u001b[38;5;241m.\u001b[39mexecute(driver_command, params)\n\u001b[1;32m    346\u001b[0m \u001b[38;5;28;01mif\u001b[39;00m response:\n\u001b[0;32m--> 347\u001b[0m     \u001b[38;5;28;43mself\u001b[39;49m\u001b[38;5;241;43m.\u001b[39;49m\u001b[43merror_handler\u001b[49m\u001b[38;5;241;43m.\u001b[39;49m\u001b[43mcheck_response\u001b[49m\u001b[43m(\u001b[49m\u001b[43mresponse\u001b[49m\u001b[43m)\u001b[49m\n\u001b[1;32m    348\u001b[0m     response[\u001b[38;5;124m\"\u001b[39m\u001b[38;5;124mvalue\u001b[39m\u001b[38;5;124m\"\u001b[39m] \u001b[38;5;241m=\u001b[39m \u001b[38;5;28mself\u001b[39m\u001b[38;5;241m.\u001b[39m_unwrap_value(response\u001b[38;5;241m.\u001b[39mget(\u001b[38;5;124m\"\u001b[39m\u001b[38;5;124mvalue\u001b[39m\u001b[38;5;124m\"\u001b[39m, \u001b[38;5;28;01mNone\u001b[39;00m))\n\u001b[1;32m    349\u001b[0m     \u001b[38;5;28;01mreturn\u001b[39;00m response\n",
      "File \u001b[0;32m/Library/Frameworks/Python.framework/Versions/3.12/lib/python3.12/site-packages/selenium/webdriver/remote/errorhandler.py:229\u001b[0m, in \u001b[0;36mErrorHandler.check_response\u001b[0;34m(self, response)\u001b[0m\n\u001b[1;32m    227\u001b[0m         alert_text \u001b[38;5;241m=\u001b[39m value[\u001b[38;5;124m\"\u001b[39m\u001b[38;5;124malert\u001b[39m\u001b[38;5;124m\"\u001b[39m]\u001b[38;5;241m.\u001b[39mget(\u001b[38;5;124m\"\u001b[39m\u001b[38;5;124mtext\u001b[39m\u001b[38;5;124m\"\u001b[39m)\n\u001b[1;32m    228\u001b[0m     \u001b[38;5;28;01mraise\u001b[39;00m exception_class(message, screen, stacktrace, alert_text)  \u001b[38;5;66;03m# type: ignore[call-arg]  # mypy is not smart enough here\u001b[39;00m\n\u001b[0;32m--> 229\u001b[0m \u001b[38;5;28;01mraise\u001b[39;00m exception_class(message, screen, stacktrace)\n",
      "\u001b[0;31mStaleElementReferenceException\u001b[0m: Message: stale element reference: stale element not found\n  (Session info: chrome=122.0.6261.57); For documentation on this error, please visit: https://www.selenium.dev/documentation/webdriver/troubleshooting/errors#stale-element-reference-exception\nStacktrace:\n0   chromedriver                        0x000000010308c580 chromedriver + 3966336\n1   chromedriver                        0x0000000103084b0c chromedriver + 3934988\n2   chromedriver                        0x0000000102d07da0 chromedriver + 277920\n3   chromedriver                        0x0000000102d155c4 chromedriver + 333252\n4   chromedriver                        0x0000000102d0ce9c chromedriver + 298652\n5   chromedriver                        0x0000000102d0b79c chromedriver + 292764\n6   chromedriver                        0x0000000102d0dfe0 chromedriver + 303072\n7   chromedriver                        0x0000000102d0e078 chromedriver + 303224\n8   chromedriver                        0x0000000102d4bd64 chromedriver + 556388\n9   chromedriver                        0x0000000102d40d3c chromedriver + 511292\n10  chromedriver                        0x0000000102d408a8 chromedriver + 510120\n11  chromedriver                        0x0000000102d82bf0 chromedriver + 781296\n12  chromedriver                        0x0000000102d3efb0 chromedriver + 503728\n13  chromedriver                        0x0000000102d3fa28 chromedriver + 506408\n14  chromedriver                        0x0000000103051768 chromedriver + 3725160\n15  chromedriver                        0x0000000103055c5c chromedriver + 3742812\n16  chromedriver                        0x000000010303a250 chromedriver + 3629648\n17  chromedriver                        0x0000000103056758 chromedriver + 3745624\n18  chromedriver                        0x000000010302d5c8 chromedriver + 3577288\n19  chromedriver                        0x0000000103074fb8 chromedriver + 3870648\n20  chromedriver                        0x000000010307515c chromedriver + 3871068\n21  chromedriver                        0x000000010308477c chromedriver + 3934076\n22  libsystem_pthread.dylib             0x0000000181a2a034 _pthread_start + 136\n23  libsystem_pthread.dylib             0x0000000181a24e3c thread_start + 8\n"
     ]
    }
   ],
   "source": [
    "# 함수 활용해서 인스타 컨텐츠와 태그를 저장\n",
    "word = '좌식쇼파'\n",
    "\n",
    "driver.get(url)\n",
    "time.sleep(5)\n",
    "\n",
    "button = driver.find_element(By.CSS_SELECTOR,'a.pagination_btn_page___ry_S')\n",
    "\n",
    "naver_search(word)\n",
    "\n",
    "results = []\n",
    "#수집할 게시글 수를 50개정도로 고정\n",
    "for i in range(100):\n",
    "  data = get_post(driver)\n",
    "  results.append(data)\n",
    "  next_ = next_button(driver)\n",
    "  if next_ == False:\n",
    "    break\n",
    "  print(data)\n",
    "  #is_next = move_next(driver)\n",
    "  #if is_next == False:\n",
    "   # break;"
   ]
  }
 ],
 "metadata": {
  "kernelspec": {
   "display_name": "Python 3",
   "language": "python",
   "name": "python3"
  },
  "language_info": {
   "codemirror_mode": {
    "name": "ipython",
    "version": 3
   },
   "file_extension": ".py",
   "mimetype": "text/x-python",
   "name": "python",
   "nbconvert_exporter": "python",
   "pygments_lexer": "ipython3",
   "version": "3.12.1"
  }
 },
 "nbformat": 4,
 "nbformat_minor": 2
}
